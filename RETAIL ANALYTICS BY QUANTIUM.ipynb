{
 "cells": [
  {
   "cell_type": "markdown",
   "metadata": {},
   "source": [
    "# IMPORTING "
   ]
  },
  {
   "cell_type": "code",
   "execution_count": 2,
   "metadata": {},
   "outputs": [],
   "source": [
    "import numpy as np\n",
    "import pandas as pd\n",
    "import seaborn as sns\n",
    "import matplotlib.pyplot as plt\n",
    "import csv\n",
    "from pandas import DataFrame, Series"
   ]
  },
  {
   "cell_type": "markdown",
   "metadata": {},
   "source": [
    "# READING CSV FILE  &  MERGING THEM"
   ]
  },
  {
   "cell_type": "code",
   "execution_count": 3,
   "metadata": {},
   "outputs": [
    {
     "data": {
      "text/html": [
       "<div>\n",
       "<style scoped>\n",
       "    .dataframe tbody tr th:only-of-type {\n",
       "        vertical-align: middle;\n",
       "    }\n",
       "\n",
       "    .dataframe tbody tr th {\n",
       "        vertical-align: top;\n",
       "    }\n",
       "\n",
       "    .dataframe thead th {\n",
       "        text-align: right;\n",
       "    }\n",
       "</style>\n",
       "<table border=\"1\" class=\"dataframe\">\n",
       "  <thead>\n",
       "    <tr style=\"text-align: right;\">\n",
       "      <th></th>\n",
       "      <th>LYLTY_CARD_NBR</th>\n",
       "      <th>LIFESTAGE</th>\n",
       "      <th>PREMIUM_CUSTOMER</th>\n",
       "    </tr>\n",
       "  </thead>\n",
       "  <tbody>\n",
       "    <tr>\n",
       "      <th>0</th>\n",
       "      <td>1000</td>\n",
       "      <td>YOUNG SINGLES/COUPLES</td>\n",
       "      <td>Premium</td>\n",
       "    </tr>\n",
       "    <tr>\n",
       "      <th>1</th>\n",
       "      <td>1002</td>\n",
       "      <td>YOUNG SINGLES/COUPLES</td>\n",
       "      <td>Mainstream</td>\n",
       "    </tr>\n",
       "    <tr>\n",
       "      <th>2</th>\n",
       "      <td>1003</td>\n",
       "      <td>YOUNG FAMILIES</td>\n",
       "      <td>Budget</td>\n",
       "    </tr>\n",
       "    <tr>\n",
       "      <th>3</th>\n",
       "      <td>1004</td>\n",
       "      <td>OLDER SINGLES/COUPLES</td>\n",
       "      <td>Mainstream</td>\n",
       "    </tr>\n",
       "    <tr>\n",
       "      <th>4</th>\n",
       "      <td>1005</td>\n",
       "      <td>MIDAGE SINGLES/COUPLES</td>\n",
       "      <td>Mainstream</td>\n",
       "    </tr>\n",
       "    <tr>\n",
       "      <th>5</th>\n",
       "      <td>1007</td>\n",
       "      <td>YOUNG SINGLES/COUPLES</td>\n",
       "      <td>Budget</td>\n",
       "    </tr>\n",
       "  </tbody>\n",
       "</table>\n",
       "</div>"
      ],
      "text/plain": [
       "   LYLTY_CARD_NBR               LIFESTAGE PREMIUM_CUSTOMER\n",
       "0            1000   YOUNG SINGLES/COUPLES          Premium\n",
       "1            1002   YOUNG SINGLES/COUPLES       Mainstream\n",
       "2            1003          YOUNG FAMILIES           Budget\n",
       "3            1004   OLDER SINGLES/COUPLES       Mainstream\n",
       "4            1005  MIDAGE SINGLES/COUPLES       Mainstream\n",
       "5            1007   YOUNG SINGLES/COUPLES           Budget"
      ]
     },
     "execution_count": 3,
     "metadata": {},
     "output_type": "execute_result"
    }
   ],
   "source": [
    "purc = pd.read_csv('purchase.csv') # file is in the current directory I am working.\n",
    "# TO check current directory use 'pwd'\n",
    "purc.head(6) # Displaing top 6 data"
   ]
  },
  {
   "cell_type": "code",
   "execution_count": 4,
   "metadata": {},
   "outputs": [
    {
     "data": {
      "text/html": [
       "<div>\n",
       "<style scoped>\n",
       "    .dataframe tbody tr th:only-of-type {\n",
       "        vertical-align: middle;\n",
       "    }\n",
       "\n",
       "    .dataframe tbody tr th {\n",
       "        vertical-align: top;\n",
       "    }\n",
       "\n",
       "    .dataframe thead th {\n",
       "        text-align: right;\n",
       "    }\n",
       "</style>\n",
       "<table border=\"1\" class=\"dataframe\">\n",
       "  <thead>\n",
       "    <tr style=\"text-align: right;\">\n",
       "      <th></th>\n",
       "      <th>DATE</th>\n",
       "      <th>STORE_NBR</th>\n",
       "      <th>LYLTY_CARD_NBR</th>\n",
       "      <th>TXN_ID</th>\n",
       "      <th>PROD_NBR</th>\n",
       "      <th>PROD_NAME</th>\n",
       "      <th>PROD_QTY</th>\n",
       "      <th>TOT_SALES</th>\n",
       "    </tr>\n",
       "  </thead>\n",
       "  <tbody>\n",
       "    <tr>\n",
       "      <th>0</th>\n",
       "      <td>43390</td>\n",
       "      <td>1</td>\n",
       "      <td>1000</td>\n",
       "      <td>1</td>\n",
       "      <td>5</td>\n",
       "      <td>Natural Chip        Compny SeaSalt175g</td>\n",
       "      <td>2</td>\n",
       "      <td>6.0</td>\n",
       "    </tr>\n",
       "    <tr>\n",
       "      <th>1</th>\n",
       "      <td>43599</td>\n",
       "      <td>1</td>\n",
       "      <td>1307</td>\n",
       "      <td>348</td>\n",
       "      <td>66</td>\n",
       "      <td>CCs Nacho Cheese    175g</td>\n",
       "      <td>3</td>\n",
       "      <td>6.3</td>\n",
       "    </tr>\n",
       "    <tr>\n",
       "      <th>2</th>\n",
       "      <td>43605</td>\n",
       "      <td>1</td>\n",
       "      <td>1343</td>\n",
       "      <td>383</td>\n",
       "      <td>61</td>\n",
       "      <td>Smiths Crinkle Cut  Chips Chicken 170g</td>\n",
       "      <td>2</td>\n",
       "      <td>2.9</td>\n",
       "    </tr>\n",
       "    <tr>\n",
       "      <th>3</th>\n",
       "      <td>43329</td>\n",
       "      <td>2</td>\n",
       "      <td>2373</td>\n",
       "      <td>974</td>\n",
       "      <td>69</td>\n",
       "      <td>Smiths Chip Thinly  S/Cream&amp;Onion 175g</td>\n",
       "      <td>5</td>\n",
       "      <td>15.0</td>\n",
       "    </tr>\n",
       "    <tr>\n",
       "      <th>4</th>\n",
       "      <td>43330</td>\n",
       "      <td>2</td>\n",
       "      <td>2426</td>\n",
       "      <td>1038</td>\n",
       "      <td>108</td>\n",
       "      <td>Kettle Tortilla ChpsHny&amp;Jlpno Chili 150g</td>\n",
       "      <td>3</td>\n",
       "      <td>13.8</td>\n",
       "    </tr>\n",
       "    <tr>\n",
       "      <th>5</th>\n",
       "      <td>43604</td>\n",
       "      <td>4</td>\n",
       "      <td>4074</td>\n",
       "      <td>2982</td>\n",
       "      <td>57</td>\n",
       "      <td>Old El Paso Salsa   Dip Tomato Mild 300g</td>\n",
       "      <td>1</td>\n",
       "      <td>5.1</td>\n",
       "    </tr>\n",
       "  </tbody>\n",
       "</table>\n",
       "</div>"
      ],
      "text/plain": [
       "    DATE  STORE_NBR  LYLTY_CARD_NBR  TXN_ID  PROD_NBR  \\\n",
       "0  43390          1            1000       1         5   \n",
       "1  43599          1            1307     348        66   \n",
       "2  43605          1            1343     383        61   \n",
       "3  43329          2            2373     974        69   \n",
       "4  43330          2            2426    1038       108   \n",
       "5  43604          4            4074    2982        57   \n",
       "\n",
       "                                  PROD_NAME  PROD_QTY  TOT_SALES  \n",
       "0    Natural Chip        Compny SeaSalt175g         2        6.0  \n",
       "1                  CCs Nacho Cheese    175g         3        6.3  \n",
       "2    Smiths Crinkle Cut  Chips Chicken 170g         2        2.9  \n",
       "3    Smiths Chip Thinly  S/Cream&Onion 175g         5       15.0  \n",
       "4  Kettle Tortilla ChpsHny&Jlpno Chili 150g         3       13.8  \n",
       "5  Old El Paso Salsa   Dip Tomato Mild 300g         1        5.1  "
      ]
     },
     "execution_count": 4,
     "metadata": {},
     "output_type": "execute_result"
    }
   ],
   "source": [
    "trans = pd.read_csv('transaction.csv')\n",
    "trans.head(6)"
   ]
  },
  {
   "cell_type": "code",
   "execution_count": 6,
   "metadata": {},
   "outputs": [],
   "source": [
    "merged = pd.merge(trans,purc,on='LYLTY_CARD_NBR') # Merging two data frame on key LYLTY_CARD_NBR"
   ]
  },
  {
   "cell_type": "code",
   "execution_count": 7,
   "metadata": {},
   "outputs": [
    {
     "data": {
      "text/html": [
       "<div>\n",
       "<style scoped>\n",
       "    .dataframe tbody tr th:only-of-type {\n",
       "        vertical-align: middle;\n",
       "    }\n",
       "\n",
       "    .dataframe tbody tr th {\n",
       "        vertical-align: top;\n",
       "    }\n",
       "\n",
       "    .dataframe thead th {\n",
       "        text-align: right;\n",
       "    }\n",
       "</style>\n",
       "<table border=\"1\" class=\"dataframe\">\n",
       "  <thead>\n",
       "    <tr style=\"text-align: right;\">\n",
       "      <th></th>\n",
       "      <th>DATE</th>\n",
       "      <th>STORE_NBR</th>\n",
       "      <th>LYLTY_CARD_NBR</th>\n",
       "      <th>TXN_ID</th>\n",
       "      <th>PROD_NBR</th>\n",
       "      <th>PROD_NAME</th>\n",
       "      <th>PROD_QTY</th>\n",
       "      <th>TOT_SALES</th>\n",
       "      <th>LIFESTAGE</th>\n",
       "      <th>PREMIUM_CUSTOMER</th>\n",
       "    </tr>\n",
       "  </thead>\n",
       "  <tbody>\n",
       "    <tr>\n",
       "      <th>0</th>\n",
       "      <td>43390</td>\n",
       "      <td>1</td>\n",
       "      <td>1000</td>\n",
       "      <td>1</td>\n",
       "      <td>5</td>\n",
       "      <td>Natural Chip        Compny SeaSalt175g</td>\n",
       "      <td>2</td>\n",
       "      <td>6.0</td>\n",
       "      <td>YOUNG SINGLES/COUPLES</td>\n",
       "      <td>Premium</td>\n",
       "    </tr>\n",
       "    <tr>\n",
       "      <th>1</th>\n",
       "      <td>43599</td>\n",
       "      <td>1</td>\n",
       "      <td>1307</td>\n",
       "      <td>348</td>\n",
       "      <td>66</td>\n",
       "      <td>CCs Nacho Cheese    175g</td>\n",
       "      <td>3</td>\n",
       "      <td>6.3</td>\n",
       "      <td>MIDAGE SINGLES/COUPLES</td>\n",
       "      <td>Budget</td>\n",
       "    </tr>\n",
       "    <tr>\n",
       "      <th>2</th>\n",
       "      <td>43414</td>\n",
       "      <td>1</td>\n",
       "      <td>1307</td>\n",
       "      <td>346</td>\n",
       "      <td>96</td>\n",
       "      <td>WW Original Stacked Chips 160g</td>\n",
       "      <td>2</td>\n",
       "      <td>3.8</td>\n",
       "      <td>MIDAGE SINGLES/COUPLES</td>\n",
       "      <td>Budget</td>\n",
       "    </tr>\n",
       "    <tr>\n",
       "      <th>3</th>\n",
       "      <td>43533</td>\n",
       "      <td>1</td>\n",
       "      <td>1307</td>\n",
       "      <td>347</td>\n",
       "      <td>54</td>\n",
       "      <td>CCs Original 175g</td>\n",
       "      <td>1</td>\n",
       "      <td>2.1</td>\n",
       "      <td>MIDAGE SINGLES/COUPLES</td>\n",
       "      <td>Budget</td>\n",
       "    </tr>\n",
       "    <tr>\n",
       "      <th>4</th>\n",
       "      <td>43605</td>\n",
       "      <td>1</td>\n",
       "      <td>1343</td>\n",
       "      <td>383</td>\n",
       "      <td>61</td>\n",
       "      <td>Smiths Crinkle Cut  Chips Chicken 170g</td>\n",
       "      <td>2</td>\n",
       "      <td>2.9</td>\n",
       "      <td>MIDAGE SINGLES/COUPLES</td>\n",
       "      <td>Budget</td>\n",
       "    </tr>\n",
       "    <tr>\n",
       "      <th>5</th>\n",
       "      <td>43329</td>\n",
       "      <td>2</td>\n",
       "      <td>2373</td>\n",
       "      <td>974</td>\n",
       "      <td>69</td>\n",
       "      <td>Smiths Chip Thinly  S/Cream&amp;Onion 175g</td>\n",
       "      <td>5</td>\n",
       "      <td>15.0</td>\n",
       "      <td>MIDAGE SINGLES/COUPLES</td>\n",
       "      <td>Budget</td>\n",
       "    </tr>\n",
       "  </tbody>\n",
       "</table>\n",
       "</div>"
      ],
      "text/plain": [
       "    DATE  STORE_NBR  LYLTY_CARD_NBR  TXN_ID  PROD_NBR  \\\n",
       "0  43390          1            1000       1         5   \n",
       "1  43599          1            1307     348        66   \n",
       "2  43414          1            1307     346        96   \n",
       "3  43533          1            1307     347        54   \n",
       "4  43605          1            1343     383        61   \n",
       "5  43329          2            2373     974        69   \n",
       "\n",
       "                                PROD_NAME  PROD_QTY  TOT_SALES  \\\n",
       "0  Natural Chip        Compny SeaSalt175g         2        6.0   \n",
       "1                CCs Nacho Cheese    175g         3        6.3   \n",
       "2          WW Original Stacked Chips 160g         2        3.8   \n",
       "3                       CCs Original 175g         1        2.1   \n",
       "4  Smiths Crinkle Cut  Chips Chicken 170g         2        2.9   \n",
       "5  Smiths Chip Thinly  S/Cream&Onion 175g         5       15.0   \n",
       "\n",
       "                LIFESTAGE PREMIUM_CUSTOMER  \n",
       "0   YOUNG SINGLES/COUPLES          Premium  \n",
       "1  MIDAGE SINGLES/COUPLES           Budget  \n",
       "2  MIDAGE SINGLES/COUPLES           Budget  \n",
       "3  MIDAGE SINGLES/COUPLES           Budget  \n",
       "4  MIDAGE SINGLES/COUPLES           Budget  \n",
       "5  MIDAGE SINGLES/COUPLES           Budget  "
      ]
     },
     "execution_count": 7,
     "metadata": {},
     "output_type": "execute_result"
    }
   ],
   "source": [
    "merged.head(6)"
   ]
  },
  {
   "cell_type": "markdown",
   "metadata": {},
   "source": [
    "# DESCRIBING DATASET AND CHECKING NULL VALUES"
   ]
  },
  {
   "cell_type": "code",
   "execution_count": 8,
   "metadata": {},
   "outputs": [
    {
     "name": "stdout",
     "output_type": "stream",
     "text": [
      "<class 'pandas.core.frame.DataFrame'>\n",
      "Int64Index: 264836 entries, 0 to 264835\n",
      "Data columns (total 10 columns):\n",
      " #   Column            Non-Null Count   Dtype  \n",
      "---  ------            --------------   -----  \n",
      " 0   DATE              264836 non-null  int64  \n",
      " 1   STORE_NBR         264836 non-null  int64  \n",
      " 2   LYLTY_CARD_NBR    264836 non-null  int64  \n",
      " 3   TXN_ID            264836 non-null  int64  \n",
      " 4   PROD_NBR          264836 non-null  int64  \n",
      " 5   PROD_NAME         264836 non-null  object \n",
      " 6   PROD_QTY          264836 non-null  int64  \n",
      " 7   TOT_SALES         264836 non-null  float64\n",
      " 8   LIFESTAGE         264836 non-null  object \n",
      " 9   PREMIUM_CUSTOMER  264836 non-null  object \n",
      "dtypes: float64(1), int64(6), object(3)\n",
      "memory usage: 22.2+ MB\n"
     ]
    }
   ],
   "source": [
    "merged.info()  "
   ]
  },
  {
   "cell_type": "code",
   "execution_count": 9,
   "metadata": {},
   "outputs": [
    {
     "data": {
      "text/html": [
       "<div>\n",
       "<style scoped>\n",
       "    .dataframe tbody tr th:only-of-type {\n",
       "        vertical-align: middle;\n",
       "    }\n",
       "\n",
       "    .dataframe tbody tr th {\n",
       "        vertical-align: top;\n",
       "    }\n",
       "\n",
       "    .dataframe thead th {\n",
       "        text-align: right;\n",
       "    }\n",
       "</style>\n",
       "<table border=\"1\" class=\"dataframe\">\n",
       "  <thead>\n",
       "    <tr style=\"text-align: right;\">\n",
       "      <th></th>\n",
       "      <th>DATE</th>\n",
       "      <th>STORE_NBR</th>\n",
       "      <th>LYLTY_CARD_NBR</th>\n",
       "      <th>TXN_ID</th>\n",
       "      <th>PROD_NBR</th>\n",
       "      <th>PROD_QTY</th>\n",
       "      <th>TOT_SALES</th>\n",
       "    </tr>\n",
       "  </thead>\n",
       "  <tbody>\n",
       "    <tr>\n",
       "      <th>count</th>\n",
       "      <td>264836.000000</td>\n",
       "      <td>264836.00000</td>\n",
       "      <td>2.648360e+05</td>\n",
       "      <td>2.648360e+05</td>\n",
       "      <td>264836.000000</td>\n",
       "      <td>264836.000000</td>\n",
       "      <td>264836.000000</td>\n",
       "    </tr>\n",
       "    <tr>\n",
       "      <th>mean</th>\n",
       "      <td>43464.036260</td>\n",
       "      <td>135.08011</td>\n",
       "      <td>1.355495e+05</td>\n",
       "      <td>1.351583e+05</td>\n",
       "      <td>56.583157</td>\n",
       "      <td>1.907309</td>\n",
       "      <td>7.304200</td>\n",
       "    </tr>\n",
       "    <tr>\n",
       "      <th>std</th>\n",
       "      <td>105.389282</td>\n",
       "      <td>76.78418</td>\n",
       "      <td>8.057998e+04</td>\n",
       "      <td>7.813303e+04</td>\n",
       "      <td>32.826638</td>\n",
       "      <td>0.643654</td>\n",
       "      <td>3.083226</td>\n",
       "    </tr>\n",
       "    <tr>\n",
       "      <th>min</th>\n",
       "      <td>43282.000000</td>\n",
       "      <td>1.00000</td>\n",
       "      <td>1.000000e+03</td>\n",
       "      <td>1.000000e+00</td>\n",
       "      <td>1.000000</td>\n",
       "      <td>1.000000</td>\n",
       "      <td>1.500000</td>\n",
       "    </tr>\n",
       "    <tr>\n",
       "      <th>25%</th>\n",
       "      <td>43373.000000</td>\n",
       "      <td>70.00000</td>\n",
       "      <td>7.002100e+04</td>\n",
       "      <td>6.760150e+04</td>\n",
       "      <td>28.000000</td>\n",
       "      <td>2.000000</td>\n",
       "      <td>5.400000</td>\n",
       "    </tr>\n",
       "    <tr>\n",
       "      <th>50%</th>\n",
       "      <td>43464.000000</td>\n",
       "      <td>130.00000</td>\n",
       "      <td>1.303575e+05</td>\n",
       "      <td>1.351375e+05</td>\n",
       "      <td>56.000000</td>\n",
       "      <td>2.000000</td>\n",
       "      <td>7.400000</td>\n",
       "    </tr>\n",
       "    <tr>\n",
       "      <th>75%</th>\n",
       "      <td>43555.000000</td>\n",
       "      <td>203.00000</td>\n",
       "      <td>2.030942e+05</td>\n",
       "      <td>2.027012e+05</td>\n",
       "      <td>85.000000</td>\n",
       "      <td>2.000000</td>\n",
       "      <td>9.200000</td>\n",
       "    </tr>\n",
       "    <tr>\n",
       "      <th>max</th>\n",
       "      <td>43646.000000</td>\n",
       "      <td>272.00000</td>\n",
       "      <td>2.373711e+06</td>\n",
       "      <td>2.415841e+06</td>\n",
       "      <td>114.000000</td>\n",
       "      <td>200.000000</td>\n",
       "      <td>650.000000</td>\n",
       "    </tr>\n",
       "  </tbody>\n",
       "</table>\n",
       "</div>"
      ],
      "text/plain": [
       "                DATE     STORE_NBR  LYLTY_CARD_NBR        TXN_ID  \\\n",
       "count  264836.000000  264836.00000    2.648360e+05  2.648360e+05   \n",
       "mean    43464.036260     135.08011    1.355495e+05  1.351583e+05   \n",
       "std       105.389282      76.78418    8.057998e+04  7.813303e+04   \n",
       "min     43282.000000       1.00000    1.000000e+03  1.000000e+00   \n",
       "25%     43373.000000      70.00000    7.002100e+04  6.760150e+04   \n",
       "50%     43464.000000     130.00000    1.303575e+05  1.351375e+05   \n",
       "75%     43555.000000     203.00000    2.030942e+05  2.027012e+05   \n",
       "max     43646.000000     272.00000    2.373711e+06  2.415841e+06   \n",
       "\n",
       "            PROD_NBR       PROD_QTY      TOT_SALES  \n",
       "count  264836.000000  264836.000000  264836.000000  \n",
       "mean       56.583157       1.907309       7.304200  \n",
       "std        32.826638       0.643654       3.083226  \n",
       "min         1.000000       1.000000       1.500000  \n",
       "25%        28.000000       2.000000       5.400000  \n",
       "50%        56.000000       2.000000       7.400000  \n",
       "75%        85.000000       2.000000       9.200000  \n",
       "max       114.000000     200.000000     650.000000  "
      ]
     },
     "execution_count": 9,
     "metadata": {},
     "output_type": "execute_result"
    }
   ],
   "source": [
    "merged.describe()"
   ]
  },
  {
   "cell_type": "code",
   "execution_count": 10,
   "metadata": {},
   "outputs": [
    {
     "data": {
      "text/plain": [
       "DATE                0\n",
       "STORE_NBR           0\n",
       "LYLTY_CARD_NBR      0\n",
       "TXN_ID              0\n",
       "PROD_NBR            0\n",
       "PROD_NAME           0\n",
       "PROD_QTY            0\n",
       "TOT_SALES           0\n",
       "LIFESTAGE           0\n",
       "PREMIUM_CUSTOMER    0\n",
       "dtype: int64"
      ]
     },
     "execution_count": 10,
     "metadata": {},
     "output_type": "execute_result"
    }
   ],
   "source": [
    "merged.isnull().sum()"
   ]
  },
  {
   "cell_type": "markdown",
   "metadata": {},
   "source": [
    "# CHECKING DATA COLUMN BY COLUMN "
   ]
  },
  {
   "cell_type": "code",
   "execution_count": 11,
   "metadata": {},
   "outputs": [
    {
     "data": {
      "text/plain": [
       "0    43390\n",
       "1    43599\n",
       "2    43414\n",
       "3    43533\n",
       "4    43605\n",
       "5    43329\n",
       "Name: DATE, dtype: int64"
      ]
     },
     "execution_count": 11,
     "metadata": {},
     "output_type": "execute_result"
    }
   ],
   "source": [
    "merged['DATE'].head(6)"
   ]
  },
  {
   "cell_type": "code",
   "execution_count": 12,
   "metadata": {},
   "outputs": [],
   "source": [
    "merged['DATE']= pd.to_datetime(merged['DATE'],errors = 'coerce',unit='d',origin ='1900-01-01')#Chaning datetime to proper format"
   ]
  },
  {
   "cell_type": "code",
   "execution_count": 13,
   "metadata": {},
   "outputs": [
    {
     "name": "stderr",
     "output_type": "stream",
     "text": [
      "<ipython-input-13-9b300eb00603>:2: FutureWarning: Treating datetime data as categorical rather than numeric in `.describe` is deprecated and will be removed in a future version of pandas. Specify `datetime_is_numeric=True` to silence this warning and adopt the future behavior now.\n",
      "  merged['DATE'].describe()\n"
     ]
    },
    {
     "data": {
      "text/plain": [
       "count                  264836\n",
       "unique                    364\n",
       "top       2018-12-26 00:00:00\n",
       "freq                      939\n",
       "first     2018-07-03 00:00:00\n",
       "last      2019-07-02 00:00:00\n",
       "Name: DATE, dtype: object"
      ]
     },
     "execution_count": 13,
     "metadata": {},
     "output_type": "execute_result"
    }
   ],
   "source": [
    "merged['DATE'].head(3)\n",
    "merged['DATE'].describe()"
   ]
  },
  {
   "cell_type": "code",
   "execution_count": 14,
   "metadata": {},
   "outputs": [
    {
     "data": {
      "text/plain": [
       "array([  1,   2,   4,   5,   7,   8,   9,  13,  19,  20,  22,  23,  25,\n",
       "        33,  36,  38,  39,  41,  43,  45,  51,  54,  55,  56,  58,  59,\n",
       "        60,  62,  63,  67,  71,  72,  74,  75,  80,  81,  82,  83,  84,\n",
       "        88,  94,  96,  97, 101, 102, 104, 106, 109, 110, 111, 112, 114,\n",
       "       115, 116, 118, 119, 120, 122, 125, 128, 129, 130, 133, 149, 151,\n",
       "       152, 153, 156, 157, 160, 161, 164, 166, 167, 168, 169, 172, 173,\n",
       "       175, 178, 181, 184, 186, 187, 191, 194, 196, 197, 200, 205, 207,\n",
       "       208, 209, 212, 214, 215, 216, 217, 219, 222, 223, 225, 226, 227,\n",
       "       235, 236, 237, 241, 243, 246, 247, 248, 250, 253, 255, 256, 257,\n",
       "       262, 265, 266, 269, 271,  77,   3,   6,  10,  12,  15,  16,  17,\n",
       "        18,  21,  24,  26,  27,  28,  29,  30,  32,  34,  35,  37,  40,\n",
       "        46,  47,  48,  49,  50,  52,  53,  57,  61,  64,  65,  66,  68,\n",
       "        69,  70,  73,  78,  79,  86,  87,  89,  90,  91,  93,  95,  98,\n",
       "       100, 103, 105, 107, 108, 113, 117, 121, 123, 124, 126, 127, 131,\n",
       "       132, 134, 135, 136, 137, 138, 140, 141, 142, 143, 144, 145, 147,\n",
       "       148, 150, 154, 155, 158, 162, 163, 165, 170, 171, 174, 176, 177,\n",
       "       179, 180, 182, 183, 185, 188, 189, 190, 192, 195, 199, 201, 202,\n",
       "       203, 210, 213, 218, 220, 221, 224, 228, 229, 230, 231, 232, 233,\n",
       "       234, 238, 239, 240, 242, 244, 245, 249, 251, 254, 259, 260, 261,\n",
       "       263, 264, 267, 268, 270, 272,  14,  42,  44,  92,  99, 139, 146,\n",
       "       159, 198, 204, 258, 211,  31,  85,  76,  11, 252, 193, 206],\n",
       "      dtype=int64)"
      ]
     },
     "execution_count": 14,
     "metadata": {},
     "output_type": "execute_result"
    }
   ],
   "source": [
    "merged['STORE_NBR'].unique()"
   ]
  },
  {
   "cell_type": "code",
   "execution_count": 15,
   "metadata": {},
   "outputs": [
    {
     "data": {
      "text/plain": [
       "count    264836.00000\n",
       "mean        135.08011\n",
       "std          76.78418\n",
       "min           1.00000\n",
       "25%          70.00000\n",
       "50%         130.00000\n",
       "75%         203.00000\n",
       "max         272.00000\n",
       "Name: STORE_NBR, dtype: float64"
      ]
     },
     "execution_count": 15,
     "metadata": {},
     "output_type": "execute_result"
    }
   ],
   "source": [
    "merged['STORE_NBR'].describe()"
   ]
  },
  {
   "cell_type": "code",
   "execution_count": 19,
   "metadata": {},
   "outputs": [
    {
     "data": {
      "text/plain": [
       "array([  1000,   1307,   1343, ..., 272358, 272379, 272380], dtype=int64)"
      ]
     },
     "execution_count": 19,
     "metadata": {},
     "output_type": "execute_result"
    }
   ],
   "source": [
    "merged['LYLTY_CARD_NBR'].unique()"
   ]
  },
  {
   "cell_type": "code",
   "execution_count": 20,
   "metadata": {},
   "outputs": [
    {
     "data": {
      "text/plain": [
       "array([     1,    348,    346, ..., 270187, 270188, 270189], dtype=int64)"
      ]
     },
     "execution_count": 20,
     "metadata": {},
     "output_type": "execute_result"
    }
   ],
   "source": [
    "merged['TXN_ID'].unique()"
   ]
  },
  {
   "cell_type": "code",
   "execution_count": 21,
   "metadata": {},
   "outputs": [
    {
     "data": {
      "text/plain": [
       "1709"
      ]
     },
     "execution_count": 21,
     "metadata": {},
     "output_type": "execute_result"
    }
   ],
   "source": [
    "merged.TXN_ID.duplicated().sum() # Checking number of duplicate transcation  number"
   ]
  },
  {
   "cell_type": "code",
   "execution_count": 22,
   "metadata": {},
   "outputs": [
    {
     "data": {
      "text/plain": [
       "array([  5,  66,  96,  54,  61,  69, 108,  57,  70,  60,   4,  51,  16,\n",
       "        46, 112,  87,  24,  59,  93,  28,  42,  13,  84,  83,  44,  52,\n",
       "        90, 104, 114,  68,  78,  33,  15,  92,  53,  30,  97,  47,   7,\n",
       "        31,  32,  58,  10,  94,  98, 107,  80,  56,  91,  43,  34,  21,\n",
       "        41,  81,  99,  25,   1,  38,  11, 101,  65, 111, 113,  39,  63,\n",
       "       106,  89,  27, 110,   2,  26,  20,  64,  62,  22,  45, 102,  73,\n",
       "        48,  37,  36,  88, 109,  17, 103,  77,  74,   3,  75,  82,  35,\n",
       "        19,  40,  76,   9,  49,  23,  67, 100,  79,  71,   6,  85,  29,\n",
       "        12,  95,  86,   8,  50, 105,  14,  55,  72,  18], dtype=int64)"
      ]
     },
     "execution_count": 22,
     "metadata": {},
     "output_type": "execute_result"
    }
   ],
   "source": [
    "merged['PROD_NBR'].unique()"
   ]
  },
  {
   "cell_type": "code",
   "execution_count": 23,
   "metadata": {
    "scrolled": true
   },
   "outputs": [
    {
     "data": {
      "text/plain": [
       "array(['Natural Chip        Compny SeaSalt175g',\n",
       "       'CCs Nacho Cheese    175g', 'WW Original Stacked Chips 160g',\n",
       "       'CCs Original 175g', 'Smiths Crinkle Cut  Chips Chicken 170g',\n",
       "       'Smiths Chip Thinly  S/Cream&Onion 175g',\n",
       "       'Kettle Tortilla ChpsHny&Jlpno Chili 150g',\n",
       "       'Old El Paso Salsa   Dip Tomato Mild 300g',\n",
       "       'Tyrrells Crisps     Lightly Salted 165g',\n",
       "       'Kettle Tortilla ChpsFeta&Garlic 150g',\n",
       "       'Dorito Corn Chp     Supreme 380g', 'Doritos Mexicana    170g',\n",
       "       'Smiths Crinkle Chips Salt & Vinegar 330g', 'Kettle Original 175g',\n",
       "       'Tyrrells Crisps     Ched & Chives 165g',\n",
       "       'Infuzions BBQ Rib   Prawn Crackers 110g',\n",
       "       'Grain Waves         Sweet Chilli 210g',\n",
       "       'Old El Paso Salsa   Dip Tomato Med 300g',\n",
       "       'Doritos Corn Chip Southern Chicken 150g',\n",
       "       'Thins Potato Chips  Hot & Spicy 175g',\n",
       "       'Doritos Corn Chip Mexican Jalapeno 150g',\n",
       "       'Red Rock Deli Thai  Chilli&Lime 150g',\n",
       "       'GrnWves Plus Btroot & Chilli Jam 180g',\n",
       "       'WW D/Style Chip     Sea Salt 200g',\n",
       "       'Thins Chips Light&  Tangy 175g',\n",
       "       'Grain Waves Sour    Cream&Chives 210G',\n",
       "       'Tostitos Smoked     Chipotle 175g',\n",
       "       'Infuzions Thai SweetChili PotatoMix 110g',\n",
       "       'Kettle Sensations   Siracha Lime 150g',\n",
       "       'Pringles Chicken    Salt Crips 134g',\n",
       "       'Thins Chips Salt &  Vinegar 175g',\n",
       "       'Cobs Popd Swt/Chlli &Sr/Cream Chips 110g',\n",
       "       'Twisties Cheese     270g', 'WW Crinkle Cut      Chicken 175g',\n",
       "       'RRD Sweet Chilli &  Sour Cream 165g',\n",
       "       'Doritos Corn Chips  Cheese Supreme 170g',\n",
       "       'RRD Salt & Vinegar  165g', 'Doritos Corn Chips  Original 170g',\n",
       "       'Smiths Crinkle      Original 330g',\n",
       "       'Infzns Crn Crnchers Tangy Gcamole 110g',\n",
       "       'Kettle Sea Salt     And Vinegar 175g',\n",
       "       'Red Rock Deli Chikn&Garlic Aioli 150g',\n",
       "       'RRD SR Slow Rst     Pork Belly 150g', 'Burger Rings 220g',\n",
       "       'NCC Sour Cream &    Garden Chives 175g',\n",
       "       'Smiths Crinkle Cut  French OnionDip 150g',\n",
       "       'Natural ChipCo Sea  Salt & Vinegr 175g',\n",
       "       'Cheezels Cheese Box 125g', 'CCs Tasty Cheese    175g',\n",
       "       'Smith Crinkle Cut   Bolognese 150g', 'Pringles Slt Vingar 134g',\n",
       "       'WW Sour Cream &OnionStacked Chips 160g',\n",
       "       'Doritos Salsa Mild  300g', 'Pringles Original   Crisps 134g',\n",
       "       'Pringles Sthrn FriedChicken 134g',\n",
       "       'Pringles SourCream  Onion 134g',\n",
       "       'Smiths Crinkle Cut  Chips Barbecue 170g',\n",
       "       'Infuzions Mango     Chutny Papadums 70g',\n",
       "       'RRD Pc Sea Salt     165g', 'Doritos Salsa       Medium 300g',\n",
       "       'Old El Paso Salsa   Dip Chnky Tom Ht300g',\n",
       "       'Smiths Chip Thinly  Cut Original 175g', 'Twisties Chicken270g',\n",
       "       'Smiths Crinkle Cut  Tomato Salsa 150g',\n",
       "       'Kettle 135g Swt Pot Sea Salt',\n",
       "       'Natural ChipCo      Hony Soy Chckn175g',\n",
       "       'Kettle Sweet Chilli And Sour Cream 175g',\n",
       "       'WW Supreme Cheese   Corn Chips 200g',\n",
       "       'WW Original Corn    Chips 200g',\n",
       "       'Cobs Popd Sour Crm  &Chives Chips 110g',\n",
       "       'Pringles Sweet&Spcy BBQ 134g', 'Doritos Cheese      Supreme 330g',\n",
       "       'Red Rock Deli SR    Salsa & Mzzrlla 150g',\n",
       "       'Pringles Mystery    Flavour 134g',\n",
       "       'Thins Chips         Originl saltd 175g',\n",
       "       'Smiths Thinly Cut   Roast Chicken 175g',\n",
       "       'Kettle Mozzarella   Basil & Pesto 175g',\n",
       "       'Smiths Crinkle Cut  Salt & Vinegar 170g',\n",
       "       'Red Rock Deli Sp    Salt & Truffle 150G',\n",
       "       'Smiths Thinly       Swt Chli&S/Cream175G', 'Kettle Chilli 175g',\n",
       "       'Kettle Honey Soy    Chicken 175g', 'Pringles Barbeque   134g',\n",
       "       'Kettle Sensations   BBQ&Maple 150g',\n",
       "       'RRD Steak &         Chimuchurri 150g',\n",
       "       'Doritos Corn Chips  Nacho Cheese 170g',\n",
       "       'Tostitos Splash Of  Lime 175g',\n",
       "       'Kettle Sensations   Camembert & Fig 150g',\n",
       "       'Cobs Popd Sea Salt  Chips 110g',\n",
       "       'Smith Crinkle Cut   Mac N Cheese 150g',\n",
       "       'Woolworths Mild     Salsa 300g',\n",
       "       'Smiths Crinkle Cut  Snag&Sauce 150g',\n",
       "       'Thins Chips Seasonedchicken 175g',\n",
       "       'Woolworths Medium   Salsa 300g',\n",
       "       'Kettle Tortilla ChpsBtroot&Ricotta 150g',\n",
       "       'Infuzions SourCream&Herbs Veg Strws 110g', 'Cheezels Cheese 330g',\n",
       "       'RRD Chilli&         Coconut 150g',\n",
       "       'Smiths Crinkle Cut  Chips Chs&Onion170g',\n",
       "       'Smiths Chip Thinly  CutSalt/Vinegr175g',\n",
       "       'Twisties Cheese     Burger 250g', 'RRD Lime & Pepper   165g',\n",
       "       'RRD Honey Soy       Chicken 165g',\n",
       "       'French Fries Potato Chips 175g',\n",
       "       'Natural Chip Co     Tmato Hrb&Spce 175g',\n",
       "       'Sunbites Whlegrn    Crisps Frch/Onin 90g', 'Cheetos Puffs 165g',\n",
       "       'Smiths Crinkle Cut  Chips Original 170g',\n",
       "       'Tostitos Lightly    Salted 175g',\n",
       "       'Woolworths Cheese   Rings 190g',\n",
       "       'Smiths Crnkle Chip  Orgnl Big Bag 380g',\n",
       "       'Snbts Whlgrn Crisps Cheddr&Mstrd 90g',\n",
       "       'WW Crinkle Cut      Original 175g',\n",
       "       'Cheetos Chs & Bacon Balls 190g'], dtype=object)"
      ]
     },
     "execution_count": 23,
     "metadata": {},
     "output_type": "execute_result"
    }
   ],
   "source": [
    "merged['PROD_NAME'].unique() # Consist of Brand Name, flavor and size of packet "
   ]
  },
  {
   "cell_type": "code",
   "execution_count": 25,
   "metadata": {},
   "outputs": [],
   "source": [
    "# Remove the Salsa Product\n",
    "merged = merged[~merged['PROD_NAME'].str.contains(r\"[Ss]alsa\")]\n"
   ]
  },
  {
   "cell_type": "code",
   "execution_count": 26,
   "metadata": {},
   "outputs": [
    {
     "name": "stdout",
     "output_type": "stream",
     "text": [
      "<class 'pandas.core.frame.DataFrame'>\n",
      "Int64Index: 246742 entries, 0 to 264835\n",
      "Data columns (total 10 columns):\n",
      " #   Column            Non-Null Count   Dtype         \n",
      "---  ------            --------------   -----         \n",
      " 0   DATE              246742 non-null  datetime64[ns]\n",
      " 1   STORE_NBR         246742 non-null  int64         \n",
      " 2   LYLTY_CARD_NBR    246742 non-null  int64         \n",
      " 3   TXN_ID            246742 non-null  int64         \n",
      " 4   PROD_NBR          246742 non-null  int64         \n",
      " 5   PROD_NAME         246742 non-null  object        \n",
      " 6   PROD_QTY          246742 non-null  int64         \n",
      " 7   TOT_SALES         246742 non-null  float64       \n",
      " 8   LIFESTAGE         246742 non-null  object        \n",
      " 9   PREMIUM_CUSTOMER  246742 non-null  object        \n",
      "dtypes: datetime64[ns](1), float64(1), int64(5), object(3)\n",
      "memory usage: 20.7+ MB\n"
     ]
    }
   ],
   "source": [
    "merged.info() # Total Number of Column reduced "
   ]
  },
  {
   "cell_type": "code",
   "execution_count": 28,
   "metadata": {},
   "outputs": [],
   "source": [
    "# Create a new column with Product Brand\n",
    "merged['BRAND_NAME']= merged['PROD_NAME'].str.split().str[0]"
   ]
  },
  {
   "cell_type": "code",
   "execution_count": 29,
   "metadata": {},
   "outputs": [
    {
     "data": {
      "text/plain": [
       "array(['Natural', 'CCs', 'WW', 'Smiths', 'Kettle', 'Tyrrells', 'Dorito',\n",
       "       'Doritos', 'Infuzions', 'Grain', 'Thins', 'Red', 'GrnWves',\n",
       "       'Tostitos', 'Pringles', 'Cobs', 'Twisties', 'RRD', 'Infzns',\n",
       "       'Burger', 'NCC', 'Cheezels', 'Smith', 'French', 'Sunbites',\n",
       "       'Cheetos', 'Woolworths', 'Snbts'], dtype=object)"
      ]
     },
     "execution_count": 29,
     "metadata": {},
     "output_type": "execute_result"
    }
   ],
   "source": [
    "merged['BRAND_NAME'].unique()"
   ]
  },
  {
   "cell_type": "code",
   "execution_count": 31,
   "metadata": {},
   "outputs": [],
   "source": [
    "# There are some products with multiple name. Combining them\n",
    "\n",
    "merged['BRAND_NAME'].replace({\"WW\":\"Woolworths\",\"NCC\":\"Natural\",\"RRD\":\"Red\",\n",
    "                            \"GrnWves\":\"Grain\",\"Dorito\":\"Doritos\",\"Infzns\":\"Infuzions\",\n",
    "                            \"Snbts\":\"Sunbites\",\"Smith\":\"Smiths\"},inplace=True)"
   ]
  },
  {
   "cell_type": "code",
   "execution_count": 32,
   "metadata": {},
   "outputs": [
    {
     "data": {
      "text/plain": [
       "array(['Natural', 'CCs', 'Woolworths', 'Smiths', 'Kettle', 'Tyrrells',\n",
       "       'Doritos', 'Infuzions', 'Grain', 'Thins', 'Red', 'Tostitos',\n",
       "       'Pringles', 'Cobs', 'Twisties', 'Burger', 'Cheezels', 'French',\n",
       "       'Sunbites', 'Cheetos'], dtype=object)"
      ]
     },
     "execution_count": 32,
     "metadata": {},
     "output_type": "execute_result"
    }
   ],
   "source": [
    "merged['BRAND_NAME'].unique()"
   ]
  },
  {
   "cell_type": "code",
   "execution_count": 36,
   "metadata": {},
   "outputs": [],
   "source": [
    "# Create a new column with product Size\n",
    "merged['PACT_SIZE'] = merged['PROD_NAME'].str.extract('(\\d+)') #EXtracting a digit from the string"
   ]
  },
  {
   "cell_type": "code",
   "execution_count": 37,
   "metadata": {},
   "outputs": [
    {
     "data": {
      "text/plain": [
       "array(['175', '160', '170', '150', '165', '380', '330', '110', '210',\n",
       "       '180', '200', '134', '270', '220', '125', '70', '135', '250', '90',\n",
       "       '190'], dtype=object)"
      ]
     },
     "execution_count": 37,
     "metadata": {},
     "output_type": "execute_result"
    }
   ],
   "source": [
    "merged['PACT_SIZE'].unique()"
   ]
  },
  {
   "cell_type": "code",
   "execution_count": 38,
   "metadata": {},
   "outputs": [
    {
     "data": {
      "text/plain": [
       "array([  2,   3,   1,   5,   4, 200], dtype=int64)"
      ]
     },
     "execution_count": 38,
     "metadata": {},
     "output_type": "execute_result"
    }
   ],
   "source": [
    "merged['PROD_QTY'].unique()"
   ]
  },
  {
   "cell_type": "code",
   "execution_count": 39,
   "metadata": {},
   "outputs": [
    {
     "data": {
      "text/plain": [
       "array([  6.  ,   6.3 ,   3.8 ,   2.1 ,   2.9 ,  15.  ,  13.8 ,   8.4 ,\n",
       "         9.2 ,  13.  ,   8.8 ,   5.7 ,  10.8 ,   7.6 ,   3.6 ,   7.8 ,\n",
       "         6.6 ,   3.9 ,   5.4 ,   6.2 ,   7.2 ,   7.4 ,  23.  ,   1.7 ,\n",
       "         3.3 ,  11.4 ,   2.7 ,   3.  ,   5.2 ,   4.2 ,   4.8 ,   1.9 ,\n",
       "         4.6 ,   3.7 ,   5.8 ,  14.8 ,   4.4 ,   2.6 ,   3.25,   3.4 ,\n",
       "        15.5 ,   6.5 ,   4.3 ,  28.5 ,   5.6 ,  11.8 ,   8.6 ,  19.  ,\n",
       "        17.6 ,   9.  ,  13.2 ,  15.2 ,  14.5 ,  10.4 ,  16.5 ,   1.8 ,\n",
       "         5.9 ,  18.4 ,  18.5 ,   2.8 ,   2.3 ,   3.1 ,   2.4 ,  15.6 ,\n",
       "        19.5 ,  27.  ,   9.9 ,  16.2 ,  13.5 ,  21.6 ,  23.6 ,  29.5 ,\n",
       "        12.6 ,   8.1 ,  11.1 ,  22.  ,   9.5 ,  16.25,  11.7 ,  22.8 ,\n",
       "         9.6 ,   8.5 ,  10.5 ,  21.  ,  12.  ,  14.4 ,   5.1 ,   9.75,\n",
       "        16.8 ,  17.7 ,  17.2 ,  17.1 ,   6.8 ,  18.  ,  12.9 ,  11.5 ,\n",
       "         8.7 ,  14.  ,  11.6 ,  12.4 , 650.  ,  21.5 ,   9.3 ,  11.2 ,\n",
       "         6.9 ])"
      ]
     },
     "execution_count": 39,
     "metadata": {},
     "output_type": "execute_result"
    }
   ],
   "source": [
    "merged['TOT_SALES'].unique()"
   ]
  },
  {
   "cell_type": "code",
   "execution_count": 41,
   "metadata": {},
   "outputs": [
    {
     "data": {
      "text/plain": [
       "<AxesSubplot:xlabel='PROD_QTY'>"
      ]
     },
     "execution_count": 41,
     "metadata": {},
     "output_type": "execute_result"
    },
    {
     "data": {
      "image/png": "[encoded data removed]",
      "text/plain": [
       "<Figure size 432x288 with 1 Axes>"
      ]
     },
     "metadata": {
      "needs_background": "light"
     },
     "output_type": "display_data"
    }
   ],
   "source": [
    "sns.boxplot(merged['PROD_QTY'])"
   ]
  },
  {
   "cell_type": "code",
   "execution_count": 43,
   "metadata": {},
   "outputs": [
    {
     "data": {
      "text/html": [
       "<div>\n",
       "<style scoped>\n",
       "    .dataframe tbody tr th:only-of-type {\n",
       "        vertical-align: middle;\n",
       "    }\n",
       "\n",
       "    .dataframe tbody tr th {\n",
       "        vertical-align: top;\n",
       "    }\n",
       "\n",
       "    .dataframe thead th {\n",
       "        text-align: right;\n",
       "    }\n",
       "</style>\n",
       "<table border=\"1\" class=\"dataframe\">\n",
       "  <thead>\n",
       "    <tr style=\"text-align: right;\">\n",
       "      <th></th>\n",
       "      <th>DATE</th>\n",
       "      <th>STORE_NBR</th>\n",
       "      <th>LYLTY_CARD_NBR</th>\n",
       "      <th>TXN_ID</th>\n",
       "      <th>PROD_NBR</th>\n",
       "      <th>PROD_NAME</th>\n",
       "      <th>PROD_QTY</th>\n",
       "      <th>TOT_SALES</th>\n",
       "      <th>LIFESTAGE</th>\n",
       "      <th>PREMIUM_CUSTOMER</th>\n",
       "      <th>BRAND_NAME</th>\n",
       "      <th>PACT_SIZE</th>\n",
       "    </tr>\n",
       "  </thead>\n",
       "  <tbody>\n",
       "    <tr>\n",
       "      <th>71457</th>\n",
       "      <td>2019-05-22</td>\n",
       "      <td>226</td>\n",
       "      <td>226000</td>\n",
       "      <td>226210</td>\n",
       "      <td>4</td>\n",
       "      <td>Dorito Corn Chp     Supreme 380g</td>\n",
       "      <td>200</td>\n",
       "      <td>650.0</td>\n",
       "      <td>OLDER FAMILIES</td>\n",
       "      <td>Premium</td>\n",
       "      <td>Doritos</td>\n",
       "      <td>380</td>\n",
       "    </tr>\n",
       "    <tr>\n",
       "      <th>71456</th>\n",
       "      <td>2018-08-21</td>\n",
       "      <td>226</td>\n",
       "      <td>226000</td>\n",
       "      <td>226201</td>\n",
       "      <td>4</td>\n",
       "      <td>Dorito Corn Chp     Supreme 380g</td>\n",
       "      <td>200</td>\n",
       "      <td>650.0</td>\n",
       "      <td>OLDER FAMILIES</td>\n",
       "      <td>Premium</td>\n",
       "      <td>Doritos</td>\n",
       "      <td>380</td>\n",
       "    </tr>\n",
       "    <tr>\n",
       "      <th>171902</th>\n",
       "      <td>2018-08-21</td>\n",
       "      <td>23</td>\n",
       "      <td>23102</td>\n",
       "      <td>19371</td>\n",
       "      <td>26</td>\n",
       "      <td>Pringles Sweet&amp;Spcy BBQ 134g</td>\n",
       "      <td>5</td>\n",
       "      <td>18.5</td>\n",
       "      <td>RETIREES</td>\n",
       "      <td>Premium</td>\n",
       "      <td>Pringles</td>\n",
       "      <td>134</td>\n",
       "    </tr>\n",
       "    <tr>\n",
       "      <th>151907</th>\n",
       "      <td>2019-05-22</td>\n",
       "      <td>118</td>\n",
       "      <td>118021</td>\n",
       "      <td>120799</td>\n",
       "      <td>14</td>\n",
       "      <td>Smiths Crnkle Chip  Orgnl Big Bag 380g</td>\n",
       "      <td>5</td>\n",
       "      <td>29.5</td>\n",
       "      <td>RETIREES</td>\n",
       "      <td>Mainstream</td>\n",
       "      <td>Smiths</td>\n",
       "      <td>380</td>\n",
       "    </tr>\n",
       "    <tr>\n",
       "      <th>17163</th>\n",
       "      <td>2019-05-18</td>\n",
       "      <td>57</td>\n",
       "      <td>57237</td>\n",
       "      <td>52658</td>\n",
       "      <td>82</td>\n",
       "      <td>Smith Crinkle Cut   Mac N Cheese 150g</td>\n",
       "      <td>5</td>\n",
       "      <td>13.0</td>\n",
       "      <td>MIDAGE SINGLES/COUPLES</td>\n",
       "      <td>Premium</td>\n",
       "      <td>Smiths</td>\n",
       "      <td>150</td>\n",
       "    </tr>\n",
       "    <tr>\n",
       "      <th>...</th>\n",
       "      <td>...</td>\n",
       "      <td>...</td>\n",
       "      <td>...</td>\n",
       "      <td>...</td>\n",
       "      <td>...</td>\n",
       "      <td>...</td>\n",
       "      <td>...</td>\n",
       "      <td>...</td>\n",
       "      <td>...</td>\n",
       "      <td>...</td>\n",
       "      <td>...</td>\n",
       "      <td>...</td>\n",
       "    </tr>\n",
       "    <tr>\n",
       "      <th>172394</th>\n",
       "      <td>2018-08-22</td>\n",
       "      <td>81</td>\n",
       "      <td>81050</td>\n",
       "      <td>79953</td>\n",
       "      <td>32</td>\n",
       "      <td>Kettle Sea Salt     And Vinegar 175g</td>\n",
       "      <td>1</td>\n",
       "      <td>5.4</td>\n",
       "      <td>RETIREES</td>\n",
       "      <td>Premium</td>\n",
       "      <td>Kettle</td>\n",
       "      <td>175</td>\n",
       "    </tr>\n",
       "    <tr>\n",
       "      <th>23238</th>\n",
       "      <td>2018-12-04</td>\n",
       "      <td>195</td>\n",
       "      <td>195044</td>\n",
       "      <td>194875</td>\n",
       "      <td>4</td>\n",
       "      <td>Dorito Corn Chp     Supreme 380g</td>\n",
       "      <td>1</td>\n",
       "      <td>6.5</td>\n",
       "      <td>MIDAGE SINGLES/COUPLES</td>\n",
       "      <td>Premium</td>\n",
       "      <td>Doritos</td>\n",
       "      <td>380</td>\n",
       "    </tr>\n",
       "    <tr>\n",
       "      <th>23239</th>\n",
       "      <td>2019-06-11</td>\n",
       "      <td>195</td>\n",
       "      <td>195044</td>\n",
       "      <td>194876</td>\n",
       "      <td>69</td>\n",
       "      <td>Smiths Chip Thinly  S/Cream&amp;Onion 175g</td>\n",
       "      <td>1</td>\n",
       "      <td>3.0</td>\n",
       "      <td>MIDAGE SINGLES/COUPLES</td>\n",
       "      <td>Premium</td>\n",
       "      <td>Smiths</td>\n",
       "      <td>175</td>\n",
       "    </tr>\n",
       "    <tr>\n",
       "      <th>23240</th>\n",
       "      <td>2019-06-19</td>\n",
       "      <td>195</td>\n",
       "      <td>195193</td>\n",
       "      <td>195048</td>\n",
       "      <td>104</td>\n",
       "      <td>Infuzions Thai SweetChili PotatoMix 110g</td>\n",
       "      <td>1</td>\n",
       "      <td>3.8</td>\n",
       "      <td>MIDAGE SINGLES/COUPLES</td>\n",
       "      <td>Premium</td>\n",
       "      <td>Infuzions</td>\n",
       "      <td>110</td>\n",
       "    </tr>\n",
       "    <tr>\n",
       "      <th>240721</th>\n",
       "      <td>2019-03-03</td>\n",
       "      <td>1</td>\n",
       "      <td>1415</td>\n",
       "      <td>485</td>\n",
       "      <td>44</td>\n",
       "      <td>Thins Chips Light&amp;  Tangy 175g</td>\n",
       "      <td>1</td>\n",
       "      <td>3.3</td>\n",
       "      <td>YOUNG SINGLES/COUPLES</td>\n",
       "      <td>Mainstream</td>\n",
       "      <td>Thins</td>\n",
       "      <td>175</td>\n",
       "    </tr>\n",
       "  </tbody>\n",
       "</table>\n",
       "<p>246742 rows × 12 columns</p>\n",
       "</div>"
      ],
      "text/plain": [
       "             DATE  STORE_NBR  LYLTY_CARD_NBR  TXN_ID  PROD_NBR  \\\n",
       "71457  2019-05-22        226          226000  226210         4   \n",
       "71456  2018-08-21        226          226000  226201         4   \n",
       "171902 2018-08-21         23           23102   19371        26   \n",
       "151907 2019-05-22        118          118021  120799        14   \n",
       "17163  2019-05-18         57           57237   52658        82   \n",
       "...           ...        ...             ...     ...       ...   \n",
       "172394 2018-08-22         81           81050   79953        32   \n",
       "23238  2018-12-04        195          195044  194875         4   \n",
       "23239  2019-06-11        195          195044  194876        69   \n",
       "23240  2019-06-19        195          195193  195048       104   \n",
       "240721 2019-03-03          1            1415     485        44   \n",
       "\n",
       "                                       PROD_NAME  PROD_QTY  TOT_SALES  \\\n",
       "71457           Dorito Corn Chp     Supreme 380g       200      650.0   \n",
       "71456           Dorito Corn Chp     Supreme 380g       200      650.0   \n",
       "171902              Pringles Sweet&Spcy BBQ 134g         5       18.5   \n",
       "151907    Smiths Crnkle Chip  Orgnl Big Bag 380g         5       29.5   \n",
       "17163      Smith Crinkle Cut   Mac N Cheese 150g         5       13.0   \n",
       "...                                          ...       ...        ...   \n",
       "172394      Kettle Sea Salt     And Vinegar 175g         1        5.4   \n",
       "23238           Dorito Corn Chp     Supreme 380g         1        6.5   \n",
       "23239     Smiths Chip Thinly  S/Cream&Onion 175g         1        3.0   \n",
       "23240   Infuzions Thai SweetChili PotatoMix 110g         1        3.8   \n",
       "240721            Thins Chips Light&  Tangy 175g         1        3.3   \n",
       "\n",
       "                     LIFESTAGE PREMIUM_CUSTOMER BRAND_NAME PACT_SIZE  \n",
       "71457           OLDER FAMILIES          Premium    Doritos       380  \n",
       "71456           OLDER FAMILIES          Premium    Doritos       380  \n",
       "171902                RETIREES          Premium   Pringles       134  \n",
       "151907                RETIREES       Mainstream     Smiths       380  \n",
       "17163   MIDAGE SINGLES/COUPLES          Premium     Smiths       150  \n",
       "...                        ...              ...        ...       ...  \n",
       "172394                RETIREES          Premium     Kettle       175  \n",
       "23238   MIDAGE SINGLES/COUPLES          Premium    Doritos       380  \n",
       "23239   MIDAGE SINGLES/COUPLES          Premium     Smiths       175  \n",
       "23240   MIDAGE SINGLES/COUPLES          Premium  Infuzions       110  \n",
       "240721   YOUNG SINGLES/COUPLES       Mainstream      Thins       175  \n",
       "\n",
       "[246742 rows x 12 columns]"
      ]
     },
     "execution_count": 43,
     "metadata": {},
     "output_type": "execute_result"
    }
   ],
   "source": [
    "merged.sort_values(by=\"PROD_QTY\",ascending = False) # Checking for extreme value"
   ]
  },
  {
   "cell_type": "code",
   "execution_count": 44,
   "metadata": {},
   "outputs": [],
   "source": [
    "merged = merged[merged['PROD_QTY']<10]  # Removing OutLier"
   ]
  },
  {
   "cell_type": "code",
   "execution_count": 45,
   "metadata": {},
   "outputs": [
    {
     "data": {
      "text/plain": [
       "array([ 6.  ,  6.3 ,  3.8 ,  2.1 ,  2.9 , 15.  , 13.8 ,  8.4 ,  9.2 ,\n",
       "       13.  ,  8.8 ,  5.7 , 10.8 ,  7.6 ,  3.6 ,  7.8 ,  6.6 ,  3.9 ,\n",
       "        5.4 ,  6.2 ,  7.2 ,  7.4 , 23.  ,  1.7 ,  3.3 , 11.4 ,  2.7 ,\n",
       "        3.  ,  5.2 ,  4.2 ,  4.8 ,  1.9 ,  4.6 ,  3.7 ,  5.8 , 14.8 ,\n",
       "        4.4 ,  2.6 ,  3.25,  3.4 , 15.5 ,  6.5 ,  4.3 , 28.5 ,  5.6 ,\n",
       "       11.8 ,  8.6 , 19.  , 17.6 ,  9.  , 13.2 , 15.2 , 14.5 , 10.4 ,\n",
       "       16.5 ,  1.8 ,  5.9 , 18.4 , 18.5 ,  2.8 ,  2.3 ,  3.1 ,  2.4 ,\n",
       "       15.6 , 19.5 , 27.  ,  9.9 , 16.2 , 13.5 , 21.6 , 23.6 , 29.5 ,\n",
       "       12.6 ,  8.1 , 11.1 , 22.  ,  9.5 , 16.25, 11.7 , 22.8 ,  9.6 ,\n",
       "        8.5 , 10.5 , 21.  , 12.  , 14.4 ,  5.1 ,  9.75, 16.8 , 17.7 ,\n",
       "       17.2 , 17.1 ,  6.8 , 18.  , 12.9 , 11.5 ,  8.7 , 14.  , 11.6 ,\n",
       "       12.4 , 21.5 ,  9.3 , 11.2 ,  6.9 ])"
      ]
     },
     "execution_count": 45,
     "metadata": {},
     "output_type": "execute_result"
    }
   ],
   "source": [
    "merged['TOT_SALES'].unique()"
   ]
  },
  {
   "cell_type": "code",
   "execution_count": 46,
   "metadata": {},
   "outputs": [
    {
     "name": "stderr",
     "output_type": "stream",
     "text": [
      "C:\\Users\\Jatin Takyar\\anaconda3\\lib\\site-packages\\seaborn\\_decorators.py:36: FutureWarning: Pass the following variable as a keyword arg: x. From version 0.12, the only valid positional argument will be `data`, and passing other arguments without an explicit keyword will result in an error or misinterpretation.\n",
      "  warnings.warn(\n"
     ]
    },
    {
     "data": {
      "text/plain": [
       "<AxesSubplot:xlabel='TOT_SALES'>"
      ]
     },
     "execution_count": 46,
     "metadata": {},
     "output_type": "execute_result"
    },
    {
     "data": {
      "image/png": "[encoded data removed]",
      "text/plain": [
       "<Figure size 432x288 with 1 Axes>"
      ]
     },
     "metadata": {
      "needs_background": "light"
     },
     "output_type": "display_data"
    }
   ],
   "source": [
    "sns.boxplot(merged['TOT_SALES'])  # TO Check if any Outlier"
   ]
  },
  {
   "cell_type": "code",
   "execution_count": 47,
   "metadata": {},
   "outputs": [
    {
     "data": {
      "text/plain": [
       "array(['Premium', 'Budget', 'Mainstream'], dtype=object)"
      ]
     },
     "execution_count": 47,
     "metadata": {},
     "output_type": "execute_result"
    }
   ],
   "source": [
    "merged['PREMIUM_CUSTOMER'].unique()  # Checking Unique values in premium customer"
   ]
  },
  {
   "cell_type": "code",
   "execution_count": 48,
   "metadata": {},
   "outputs": [
    {
     "data": {
      "text/plain": [
       "array(['YOUNG SINGLES/COUPLES', 'MIDAGE SINGLES/COUPLES', 'NEW FAMILIES',\n",
       "       'OLDER FAMILIES', 'OLDER SINGLES/COUPLES', 'RETIREES',\n",
       "       'YOUNG FAMILIES'], dtype=object)"
      ]
     },
     "execution_count": 48,
     "metadata": {},
     "output_type": "execute_result"
    }
   ],
   "source": [
    "merged['LIFESTAGE'].unique() # Checking unique values in LIFESTAGE"
   ]
  },
  {
   "cell_type": "markdown",
   "metadata": {},
   "source": [
    "# ANALYTICS"
   ]
  },
  {
   "cell_type": "markdown",
   "metadata": {},
   "source": [
    "Number of Customer in each segment"
   ]
  },
  {
   "cell_type": "code",
   "execution_count": 322,
   "metadata": {},
   "outputs": [
    {
     "data": {
      "text/plain": [
       "Mainstream    29245\n",
       "Budget        24470\n",
       "Premium       18922\n",
       "Name: PREMIUM_CUSTOMER, dtype: int64"
      ]
     },
     "execution_count": 322,
     "metadata": {},
     "output_type": "execute_result"
    }
   ],
   "source": [
    "purc['PREMIUM_CUSTOMER'].value_counts()"
   ]
  },
  {
   "cell_type": "code",
   "execution_count": 338,
   "metadata": {},
   "outputs": [
    {
     "data": {
      "text/plain": [
       "Text(0.5, 1.0, 'Distribution of Customer Type')"
      ]
     },
     "execution_count": 338,
     "metadata": {},
     "output_type": "execute_result"
    },
    {
     "data": {
      "image/png": "[encoded data removed]",
      "text/plain": [
       "<Figure size 432x288 with 1 Axes>"
      ]
     },
     "metadata": {},
     "output_type": "display_data"
    }
   ],
   "source": [
    "plt.pie(purc['PREMIUM_CUSTOMER'].value_counts(),colors=['cyan','coral','aquamarine'],\n",
    "       \n",
    "       autopct='%.2f%%')\n",
    "\n",
    "plt.legend(purc[\"PREMIUM_CUSTOMER\"].value_counts().index, fontsize=15,bbox_to_anchor=(1.2,0.7))\n",
    "plt.title(\"Distribution of Customer Type\", fontsize=20)"
   ]
  },
  {
   "cell_type": "code",
   "execution_count": 339,
   "metadata": {},
   "outputs": [
    {
     "data": {
      "text/plain": [
       "RETIREES                  14805\n",
       "OLDER SINGLES/COUPLES     14609\n",
       "YOUNG SINGLES/COUPLES     14441\n",
       "OLDER FAMILIES             9780\n",
       "YOUNG FAMILIES             9178\n",
       "MIDAGE SINGLES/COUPLES     7275\n",
       "NEW FAMILIES               2549\n",
       "Name: LIFESTAGE, dtype: int64"
      ]
     },
     "execution_count": 339,
     "metadata": {},
     "output_type": "execute_result"
    }
   ],
   "source": [
    "purc['LIFESTAGE'].value_counts()"
   ]
  },
  {
   "cell_type": "code",
   "execution_count": 344,
   "metadata": {},
   "outputs": [
    {
     "data": {
      "text/plain": [
       "Text(0.5, 1.0, 'Distribution of Customer based on LIFESTAGE')"
      ]
     },
     "execution_count": 344,
     "metadata": {},
     "output_type": "execute_result"
    },
    {
     "data": {
      "image/png": "[encoded data removed]",
      "text/plain": [
       "<Figure size 576x576 with 1 Axes>"
      ]
     },
     "metadata": {},
     "output_type": "display_data"
    }
   ],
   "source": [
    "plt.figure(figsize=(8,8))\n",
    "plt.pie(purc['LIFESTAGE'].value_counts(),colors=['cyan','coral','aquamarine','olive',\n",
    "                                              'azure','violet','lavenderblush'],\n",
    "       autopct='%.2f%%')\n",
    "plt.legend(purc[\"LIFESTAGE\"].value_counts().index, fontsize=15,bbox_to_anchor=(1.2,0.7))\n",
    "plt.title('Distribution of Customer based on LIFESTAGE',fontsize=20)\n"
   ]
  },
  {
   "cell_type": "code",
   "execution_count": null,
   "metadata": {},
   "outputs": [],
   "source": []
  },
  {
   "cell_type": "markdown",
   "metadata": {},
   "source": [
    "# NUMBER OF CUSTOMER OF EACH SEGMENT"
   ]
  },
  {
   "cell_type": "code",
   "execution_count": 348,
   "metadata": {},
   "outputs": [],
   "source": [
    "cus1 = pd.DataFrame(purc.groupby(['LIFESTAGE','PREMIUM_CUSTOMER']).count())"
   ]
  },
  {
   "cell_type": "code",
   "execution_count": 349,
   "metadata": {},
   "outputs": [],
   "source": [
    "cus1.columns = ['Count']"
   ]
  },
  {
   "cell_type": "code",
   "execution_count": 350,
   "metadata": {},
   "outputs": [
    {
     "data": {
      "text/html": [
       "<div>\n",
       "<style scoped>\n",
       "    .dataframe tbody tr th:only-of-type {\n",
       "        vertical-align: middle;\n",
       "    }\n",
       "\n",
       "    .dataframe tbody tr th {\n",
       "        vertical-align: top;\n",
       "    }\n",
       "\n",
       "    .dataframe thead th {\n",
       "        text-align: right;\n",
       "    }\n",
       "</style>\n",
       "<table border=\"1\" class=\"dataframe\">\n",
       "  <thead>\n",
       "    <tr style=\"text-align: right;\">\n",
       "      <th></th>\n",
       "      <th></th>\n",
       "      <th>Count</th>\n",
       "    </tr>\n",
       "    <tr>\n",
       "      <th>LIFESTAGE</th>\n",
       "      <th>PREMIUM_CUSTOMER</th>\n",
       "      <th></th>\n",
       "    </tr>\n",
       "  </thead>\n",
       "  <tbody>\n",
       "    <tr>\n",
       "      <th rowspan=\"3\" valign=\"top\">MIDAGE SINGLES/COUPLES</th>\n",
       "      <th>Budget</th>\n",
       "      <td>1504</td>\n",
       "    </tr>\n",
       "    <tr>\n",
       "      <th>Mainstream</th>\n",
       "      <td>3340</td>\n",
       "    </tr>\n",
       "    <tr>\n",
       "      <th>Premium</th>\n",
       "      <td>2431</td>\n",
       "    </tr>\n",
       "    <tr>\n",
       "      <th rowspan=\"3\" valign=\"top\">NEW FAMILIES</th>\n",
       "      <th>Budget</th>\n",
       "      <td>1112</td>\n",
       "    </tr>\n",
       "    <tr>\n",
       "      <th>Mainstream</th>\n",
       "      <td>849</td>\n",
       "    </tr>\n",
       "    <tr>\n",
       "      <th>Premium</th>\n",
       "      <td>588</td>\n",
       "    </tr>\n",
       "    <tr>\n",
       "      <th rowspan=\"3\" valign=\"top\">OLDER FAMILIES</th>\n",
       "      <th>Budget</th>\n",
       "      <td>4675</td>\n",
       "    </tr>\n",
       "    <tr>\n",
       "      <th>Mainstream</th>\n",
       "      <td>2831</td>\n",
       "    </tr>\n",
       "    <tr>\n",
       "      <th>Premium</th>\n",
       "      <td>2274</td>\n",
       "    </tr>\n",
       "    <tr>\n",
       "      <th rowspan=\"3\" valign=\"top\">OLDER SINGLES/COUPLES</th>\n",
       "      <th>Budget</th>\n",
       "      <td>4929</td>\n",
       "    </tr>\n",
       "    <tr>\n",
       "      <th>Mainstream</th>\n",
       "      <td>4930</td>\n",
       "    </tr>\n",
       "    <tr>\n",
       "      <th>Premium</th>\n",
       "      <td>4750</td>\n",
       "    </tr>\n",
       "    <tr>\n",
       "      <th rowspan=\"3\" valign=\"top\">RETIREES</th>\n",
       "      <th>Budget</th>\n",
       "      <td>4454</td>\n",
       "    </tr>\n",
       "    <tr>\n",
       "      <th>Mainstream</th>\n",
       "      <td>6479</td>\n",
       "    </tr>\n",
       "    <tr>\n",
       "      <th>Premium</th>\n",
       "      <td>3872</td>\n",
       "    </tr>\n",
       "    <tr>\n",
       "      <th rowspan=\"3\" valign=\"top\">YOUNG FAMILIES</th>\n",
       "      <th>Budget</th>\n",
       "      <td>4017</td>\n",
       "    </tr>\n",
       "    <tr>\n",
       "      <th>Mainstream</th>\n",
       "      <td>2728</td>\n",
       "    </tr>\n",
       "    <tr>\n",
       "      <th>Premium</th>\n",
       "      <td>2433</td>\n",
       "    </tr>\n",
       "    <tr>\n",
       "      <th rowspan=\"3\" valign=\"top\">YOUNG SINGLES/COUPLES</th>\n",
       "      <th>Budget</th>\n",
       "      <td>3779</td>\n",
       "    </tr>\n",
       "    <tr>\n",
       "      <th>Mainstream</th>\n",
       "      <td>8088</td>\n",
       "    </tr>\n",
       "    <tr>\n",
       "      <th>Premium</th>\n",
       "      <td>2574</td>\n",
       "    </tr>\n",
       "  </tbody>\n",
       "</table>\n",
       "</div>"
      ],
      "text/plain": [
       "                                         Count\n",
       "LIFESTAGE              PREMIUM_CUSTOMER       \n",
       "MIDAGE SINGLES/COUPLES Budget             1504\n",
       "                       Mainstream         3340\n",
       "                       Premium            2431\n",
       "NEW FAMILIES           Budget             1112\n",
       "                       Mainstream          849\n",
       "                       Premium             588\n",
       "OLDER FAMILIES         Budget             4675\n",
       "                       Mainstream         2831\n",
       "                       Premium            2274\n",
       "OLDER SINGLES/COUPLES  Budget             4929\n",
       "                       Mainstream         4930\n",
       "                       Premium            4750\n",
       "RETIREES               Budget             4454\n",
       "                       Mainstream         6479\n",
       "                       Premium            3872\n",
       "YOUNG FAMILIES         Budget             4017\n",
       "                       Mainstream         2728\n",
       "                       Premium            2433\n",
       "YOUNG SINGLES/COUPLES  Budget             3779\n",
       "                       Mainstream         8088\n",
       "                       Premium            2574"
      ]
     },
     "execution_count": 350,
     "metadata": {},
     "output_type": "execute_result"
    }
   ],
   "source": [
    "cus1"
   ]
  },
  {
   "cell_type": "code",
   "execution_count": 355,
   "metadata": {},
   "outputs": [
    {
     "data": {
      "text/plain": [
       "Text(0, 0.5, 'Count of Customer')"
      ]
     },
     "execution_count": 355,
     "metadata": {},
     "output_type": "execute_result"
    },
    {
     "data": {
      "image/png": "[encoded data removed]",
      "text/plain": [
       "<Figure size 1440x504 with 1 Axes>"
      ]
     },
     "metadata": {
      "needs_background": "light"
     },
     "output_type": "display_data"
    }
   ],
   "source": [
    "plt.figure(figsize=(20,7))\n",
    "\n",
    "sns.barplot(x=cus1.reset_index()['LIFESTAGE'],y=cus1.reset_index()['Count'],hue=\n",
    "           cus1.reset_index()['PREMIUM_CUSTOMER'])\n",
    "plt.xlabel(\"LIFESTAGE\",fontsize=15)\n",
    "plt.ylabel(\"Count of Customer\",fontsize=15)"
   ]
  },
  {
   "cell_type": "code",
   "execution_count": 272,
   "metadata": {},
   "outputs": [
    {
     "data": {
      "text/html": [
       "<div>\n",
       "<style scoped>\n",
       "    .dataframe tbody tr th:only-of-type {\n",
       "        vertical-align: middle;\n",
       "    }\n",
       "\n",
       "    .dataframe tbody tr th {\n",
       "        vertical-align: top;\n",
       "    }\n",
       "\n",
       "    .dataframe thead th {\n",
       "        text-align: right;\n",
       "    }\n",
       "</style>\n",
       "<table border=\"1\" class=\"dataframe\">\n",
       "  <thead>\n",
       "    <tr style=\"text-align: right;\">\n",
       "      <th></th>\n",
       "      <th></th>\n",
       "      <th>LYLTY_CARD_NBR</th>\n",
       "    </tr>\n",
       "    <tr>\n",
       "      <th>LIFESTAGE</th>\n",
       "      <th>PREMIUM_CUSTOMER</th>\n",
       "      <th></th>\n",
       "    </tr>\n",
       "  </thead>\n",
       "  <tbody>\n",
       "    <tr>\n",
       "      <th rowspan=\"3\" valign=\"top\">MIDAGE SINGLES/COUPLES</th>\n",
       "      <th>Budget</th>\n",
       "      <td>1474</td>\n",
       "    </tr>\n",
       "    <tr>\n",
       "      <th>Mainstream</th>\n",
       "      <td>3298</td>\n",
       "    </tr>\n",
       "    <tr>\n",
       "      <th>Premium</th>\n",
       "      <td>2369</td>\n",
       "    </tr>\n",
       "    <tr>\n",
       "      <th rowspan=\"3\" valign=\"top\">NEW FAMILIES</th>\n",
       "      <th>Budget</th>\n",
       "      <td>1087</td>\n",
       "    </tr>\n",
       "    <tr>\n",
       "      <th>Mainstream</th>\n",
       "      <td>830</td>\n",
       "    </tr>\n",
       "    <tr>\n",
       "      <th>Premium</th>\n",
       "      <td>575</td>\n",
       "    </tr>\n",
       "    <tr>\n",
       "      <th rowspan=\"3\" valign=\"top\">OLDER FAMILIES</th>\n",
       "      <th>Budget</th>\n",
       "      <td>4611</td>\n",
       "    </tr>\n",
       "    <tr>\n",
       "      <th>Mainstream</th>\n",
       "      <td>2788</td>\n",
       "    </tr>\n",
       "    <tr>\n",
       "      <th>Premium</th>\n",
       "      <td>2231</td>\n",
       "    </tr>\n",
       "    <tr>\n",
       "      <th rowspan=\"3\" valign=\"top\">OLDER SINGLES/COUPLES</th>\n",
       "      <th>Budget</th>\n",
       "      <td>4849</td>\n",
       "    </tr>\n",
       "    <tr>\n",
       "      <th>Mainstream</th>\n",
       "      <td>4858</td>\n",
       "    </tr>\n",
       "    <tr>\n",
       "      <th>Premium</th>\n",
       "      <td>4682</td>\n",
       "    </tr>\n",
       "    <tr>\n",
       "      <th rowspan=\"3\" valign=\"top\">RETIREES</th>\n",
       "      <th>Budget</th>\n",
       "      <td>4385</td>\n",
       "    </tr>\n",
       "    <tr>\n",
       "      <th>Mainstream</th>\n",
       "      <td>6358</td>\n",
       "    </tr>\n",
       "    <tr>\n",
       "      <th>Premium</th>\n",
       "      <td>3812</td>\n",
       "    </tr>\n",
       "    <tr>\n",
       "      <th rowspan=\"3\" valign=\"top\">YOUNG FAMILIES</th>\n",
       "      <th>Budget</th>\n",
       "      <td>3953</td>\n",
       "    </tr>\n",
       "    <tr>\n",
       "      <th>Mainstream</th>\n",
       "      <td>2685</td>\n",
       "    </tr>\n",
       "    <tr>\n",
       "      <th>Premium</th>\n",
       "      <td>2398</td>\n",
       "    </tr>\n",
       "    <tr>\n",
       "      <th rowspan=\"3\" valign=\"top\">YOUNG SINGLES/COUPLES</th>\n",
       "      <th>Budget</th>\n",
       "      <td>3647</td>\n",
       "    </tr>\n",
       "    <tr>\n",
       "      <th>Mainstream</th>\n",
       "      <td>7917</td>\n",
       "    </tr>\n",
       "    <tr>\n",
       "      <th>Premium</th>\n",
       "      <td>2480</td>\n",
       "    </tr>\n",
       "  </tbody>\n",
       "</table>\n",
       "</div>"
      ],
      "text/plain": [
       "                                         LYLTY_CARD_NBR\n",
       "LIFESTAGE              PREMIUM_CUSTOMER                \n",
       "MIDAGE SINGLES/COUPLES Budget                      1474\n",
       "                       Mainstream                  3298\n",
       "                       Premium                     2369\n",
       "NEW FAMILIES           Budget                      1087\n",
       "                       Mainstream                   830\n",
       "                       Premium                      575\n",
       "OLDER FAMILIES         Budget                      4611\n",
       "                       Mainstream                  2788\n",
       "                       Premium                     2231\n",
       "OLDER SINGLES/COUPLES  Budget                      4849\n",
       "                       Mainstream                  4858\n",
       "                       Premium                     4682\n",
       "RETIREES               Budget                      4385\n",
       "                       Mainstream                  6358\n",
       "                       Premium                     3812\n",
       "YOUNG FAMILIES         Budget                      3953\n",
       "                       Mainstream                  2685\n",
       "                       Premium                     2398\n",
       "YOUNG SINGLES/COUPLES  Budget                      3647\n",
       "                       Mainstream                  7917\n",
       "                       Premium                     2480"
      ]
     },
     "execution_count": 272,
     "metadata": {},
     "output_type": "execute_result"
    }
   ],
   "source": []
  },
  {
   "cell_type": "code",
   "execution_count": null,
   "metadata": {},
   "outputs": [],
   "source": []
  },
  {
   "cell_type": "code",
   "execution_count": null,
   "metadata": {},
   "outputs": [],
   "source": [
    "plt.figure(fusize=(10,7))\n",
    "sns.barplot(x=cus_life.reset_index()['LIFESTAGE'],y=cus_life)"
   ]
  },
  {
   "cell_type": "code",
   "execution_count": 119,
   "metadata": {},
   "outputs": [
    {
     "data": {
      "text/plain": [
       "<AxesSubplot:xlabel='LIFESTAGE,PREMIUM_CUSTOMER', ylabel='Number of Customers'>"
      ]
     },
     "execution_count": 119,
     "metadata": {},
     "output_type": "execute_result"
    },
    {
     "data": {
      "image/png": "[encoded data removed]",
      "text/plain": [
       "<Figure size 432x288 with 1 Axes>"
      ]
     },
     "metadata": {
      "needs_background": "light"
     },
     "output_type": "display_data"
    }
   ],
   "source": [
    "cus_life.nunique().sort_values().plot(kind='bar', color= 'black',ylabel = 'Number of Customers')"
   ]
  },
  {
   "cell_type": "markdown",
   "metadata": {},
   "source": [
    "# Finding out top 5 products used by brand name for Premium Customer"
   ]
  },
  {
   "cell_type": "code",
   "execution_count": 86,
   "metadata": {},
   "outputs": [
    {
     "name": "stdout",
     "output_type": "stream",
     "text": [
      "Premium\n",
      "Kettle      10711\n",
      "Smiths       8044\n",
      "Pringles     6579\n",
      "Doritos      6392\n",
      "Red          4427\n",
      "Name: BRAND_NAME, dtype: int64\n"
     ]
    },
    {
     "data": {
      "image/png": "[encoded data removed]",
      "text/plain": [
       "<Figure size 432x288 with 1 Axes>"
      ]
     },
     "metadata": {
      "needs_background": "light"
     },
     "output_type": "display_data"
    },
    {
     "name": "stdout",
     "output_type": "stream",
     "text": [
      "Budget\n",
      "Kettle      14154\n",
      "Smiths      11008\n",
      "Doritos      8718\n",
      "Pringles     8620\n",
      "Red          5970\n",
      "Name: BRAND_NAME, dtype: int64\n"
     ]
    },
    {
     "data": {
      "image/png": "[encoded data removed]",
      "text/plain": [
       "<Figure size 432x288 with 1 Axes>"
      ]
     },
     "metadata": {
      "needs_background": "light"
     },
     "output_type": "display_data"
    },
    {
     "name": "stdout",
     "output_type": "stream",
     "text": [
      "Mainstream\n",
      "Kettle      16423\n",
      "Smiths      11301\n",
      "Doritos     10114\n",
      "Pringles     9903\n",
      "Red          5924\n",
      "Name: BRAND_NAME, dtype: int64\n"
     ]
    },
    {
     "data": {
      "image/png": "[encoded data removed]",
      "text/plain": [
       "<Figure size 432x288 with 1 Axes>"
      ]
     },
     "metadata": {
      "needs_background": "light"
     },
     "output_type": "display_data"
    }
   ],
   "source": [
    "# Finding out top 5 products used by brand name for Premium Customer\n",
    "\n",
    "for cus in merged['PREMIUM_CUSTOMER'].unique():\n",
    "    total = merged[merged['PREMIUM_CUSTOMER']==cus]['BRAND_NAME'].value_counts().head(5)\n",
    "    print(cus)\n",
    "    print(total)\n",
    "    total.plot(kind='bar',color='green')\n",
    "    plt.show()"
   ]
  },
  {
   "cell_type": "markdown",
   "metadata": {},
   "source": [
    "# Finding out top 5 products used by brand name for lifestage "
   ]
  },
  {
   "cell_type": "code",
   "execution_count": 87,
   "metadata": {},
   "outputs": [
    {
     "name": "stdout",
     "output_type": "stream",
     "text": [
      "YOUNG SINGLES/COUPLES\n",
      "Kettle       5893\n",
      "Smiths       3893\n",
      "Pringles     3684\n",
      "Doritos      3650\n",
      "Infuzions    2013\n",
      "Name: BRAND_NAME, dtype: int64\n"
     ]
    },
    {
     "data": {
      "image/png": "[encoded data removed]",
      "text/plain": [
       "<Figure size 432x288 with 1 Axes>"
      ]
     },
     "metadata": {
      "needs_background": "light"
     },
     "output_type": "display_data"
    },
    {
     "name": "stdout",
     "output_type": "stream",
     "text": [
      "MIDAGE SINGLES/COUPLES\n",
      "Kettle      4055\n",
      "Smiths      2790\n",
      "Doritos     2423\n",
      "Pringles    2389\n",
      "Red         1478\n",
      "Name: BRAND_NAME, dtype: int64\n"
     ]
    },
    {
     "data": {
      "image/png": "[encoded data removed]",
      "text/plain": [
       "<Figure size 432x288 with 1 Axes>"
      ]
     },
     "metadata": {
      "needs_background": "light"
     },
     "output_type": "display_data"
    },
    {
     "name": "stdout",
     "output_type": "stream",
     "text": [
      "NEW FAMILIES\n",
      "Kettle       1171\n",
      "Smiths        727\n",
      "Doritos       726\n",
      "Pringles      698\n",
      "Infuzions     393\n",
      "Name: BRAND_NAME, dtype: int64\n"
     ]
    },
    {
     "data": {
      "image/png": "[encoded data removed]",
      "text/plain": [
       "<Figure size 432x288 with 1 Axes>"
      ]
     },
     "metadata": {
      "needs_background": "light"
     },
     "output_type": "display_data"
    },
    {
     "name": "stdout",
     "output_type": "stream",
     "text": [
      "OLDER FAMILIES\n",
      "Kettle      6851\n",
      "Smiths      6138\n",
      "Pringles    4244\n",
      "Doritos     4218\n",
      "Red         3593\n",
      "Name: BRAND_NAME, dtype: int64\n"
     ]
    },
    {
     "data": {
      "image/png": "[encoded data removed]",
      "text/plain": [
       "<Figure size 432x288 with 1 Axes>"
      ]
     },
     "metadata": {
      "needs_background": "light"
     },
     "output_type": "display_data"
    },
    {
     "name": "stdout",
     "output_type": "stream",
     "text": [
      "OLDER SINGLES/COUPLES\n",
      "Kettle      8847\n",
      "Smiths      6032\n",
      "Doritos     5326\n",
      "Pringles    5307\n",
      "Red         3042\n",
      "Name: BRAND_NAME, dtype: int64\n"
     ]
    },
    {
     "data": {
      "image/png": "[encoded data removed]",
      "text/plain": [
       "<Figure size 432x288 with 1 Axes>"
      ]
     },
     "metadata": {
      "needs_background": "light"
     },
     "output_type": "display_data"
    },
    {
     "name": "stdout",
     "output_type": "stream",
     "text": [
      "RETIREES\n",
      "Kettle      8194\n",
      "Smiths      5374\n",
      "Doritos     4987\n",
      "Pringles    4951\n",
      "Thins       2792\n",
      "Name: BRAND_NAME, dtype: int64\n"
     ]
    },
    {
     "data": {
      "image/png": "[encoded data removed]",
      "text/plain": [
       "<Figure size 432x288 with 1 Axes>"
      ]
     },
     "metadata": {
      "needs_background": "light"
     },
     "output_type": "display_data"
    },
    {
     "name": "stdout",
     "output_type": "stream",
     "text": [
      "YOUNG FAMILIES\n",
      "Kettle      6277\n",
      "Smiths      5399\n",
      "Doritos     3894\n",
      "Pringles    3829\n",
      "Red         3129\n",
      "Name: BRAND_NAME, dtype: int64\n"
     ]
    },
    {
     "data": {
      "image/png": "[encoded data removed]",
      "text/plain": [
       "<Figure size 432x288 with 1 Axes>"
      ]
     },
     "metadata": {
      "needs_background": "light"
     },
     "output_type": "display_data"
    }
   ],
   "source": [
    "# Finding out top 5 products used by brand name for lifestage\n",
    "\n",
    "for cus in merged['LIFESTAGE'].unique():\n",
    "    total = merged[merged['LIFESTAGE']==cus]['BRAND_NAME'].value_counts().head(5)\n",
    "    print(cus)\n",
    "    print(total)\n",
    "    total.plot(kind='bar',color='black')\n",
    "    plt.show()"
   ]
  },
  {
   "cell_type": "markdown",
   "metadata": {},
   "source": [
    "# Finding out top 5 products used by brand name for Premium Customer and lifestage"
   ]
  },
  {
   "cell_type": "code",
   "execution_count": 88,
   "metadata": {},
   "outputs": [
    {
     "name": "stdout",
     "output_type": "stream",
     "text": [
      "YOUNG SINGLES/COUPLES Premium\n",
      "Kettle      838\n",
      "Smiths      787\n",
      "Pringles    537\n",
      "Doritos     489\n",
      "Red         454\n",
      "Name: BRAND_NAME, dtype: int64\n"
     ]
    },
    {
     "data": {
      "image/png": "[encoded data removed]",
      "text/plain": [
       "<Figure size 432x288 with 1 Axes>"
      ]
     },
     "metadata": {
      "needs_background": "light"
     },
     "output_type": "display_data"
    },
    {
     "name": "stdout",
     "output_type": "stream",
     "text": [
      "YOUNG SINGLES/COUPLES Budget\n",
      "Kettle      1211\n",
      "Smiths      1185\n",
      "Pringles     832\n",
      "Doritos      782\n",
      "Red          679\n",
      "Name: BRAND_NAME, dtype: int64\n"
     ]
    },
    {
     "data": {
      "image/png": "[encoded data removed]",
      "text/plain": [
       "<Figure size 432x288 with 1 Axes>"
      ]
     },
     "metadata": {
      "needs_background": "light"
     },
     "output_type": "display_data"
    },
    {
     "name": "stdout",
     "output_type": "stream",
     "text": [
      "YOUNG SINGLES/COUPLES Mainstream\n",
      "Kettle       3844\n",
      "Doritos      2379\n",
      "Pringles     2315\n",
      "Smiths       1921\n",
      "Infuzions    1250\n",
      "Name: BRAND_NAME, dtype: int64\n"
     ]
    },
    {
     "data": {
      "image/png": "[encoded data removed]",
      "text/plain": [
       "<Figure size 432x288 with 1 Axes>"
      ]
     },
     "metadata": {
      "needs_background": "light"
     },
     "output_type": "display_data"
    },
    {
     "name": "stdout",
     "output_type": "stream",
     "text": [
      "MIDAGE SINGLES/COUPLES Premium\n",
      "Kettle      1206\n",
      "Smiths       923\n",
      "Pringles     781\n",
      "Doritos      734\n",
      "Red          533\n",
      "Name: BRAND_NAME, dtype: int64\n"
     ]
    },
    {
     "data": {
      "image/png": "[encoded data removed]",
      "text/plain": [
       "<Figure size 432x288 with 1 Axes>"
      ]
     },
     "metadata": {
      "needs_background": "light"
     },
     "output_type": "display_data"
    },
    {
     "name": "stdout",
     "output_type": "stream",
     "text": [
      "MIDAGE SINGLES/COUPLES Budget\n",
      "Kettle      713\n",
      "Smiths      591\n",
      "Doritos     479\n",
      "Pringles    449\n",
      "Red         334\n",
      "Name: BRAND_NAME, dtype: int64\n"
     ]
    },
    {
     "data": {
      "image/png": "[encoded data removed]",
      "text/plain": [
       "<Figure size 432x288 with 1 Axes>"
      ]
     },
     "metadata": {
      "needs_background": "light"
     },
     "output_type": "display_data"
    },
    {
     "name": "stdout",
     "output_type": "stream",
     "text": [
      "MIDAGE SINGLES/COUPLES Mainstream\n",
      "Kettle       2136\n",
      "Smiths       1276\n",
      "Doritos      1210\n",
      "Pringles     1159\n",
      "Infuzions     679\n",
      "Name: BRAND_NAME, dtype: int64\n"
     ]
    },
    {
     "data": {
      "image/png": "[encoded data removed]",
      "text/plain": [
       "<Figure size 432x288 with 1 Axes>"
      ]
     },
     "metadata": {
      "needs_background": "light"
     },
     "output_type": "display_data"
    },
    {
     "name": "stdout",
     "output_type": "stream",
     "text": [
      "NEW FAMILIES Premium\n",
      "Kettle       247\n",
      "Pringles     165\n",
      "Smiths       155\n",
      "Doritos      154\n",
      "Infuzions     87\n",
      "Name: BRAND_NAME, dtype: int64\n"
     ]
    },
    {
     "data": {
      "image/png": "[encoded data removed]",
      "text/plain": [
       "<Figure size 432x288 with 1 Axes>"
      ]
     },
     "metadata": {
      "needs_background": "light"
     },
     "output_type": "display_data"
    },
    {
     "name": "stdout",
     "output_type": "stream",
     "text": [
      "NEW FAMILIES Budget\n",
      "Kettle       510\n",
      "Smiths       328\n",
      "Doritos      315\n",
      "Pringles     309\n",
      "Infuzions    180\n",
      "Name: BRAND_NAME, dtype: int64\n"
     ]
    },
    {
     "data": {
      "image/png": "[encoded data removed]",
      "text/plain": [
       "<Figure size 432x288 with 1 Axes>"
      ]
     },
     "metadata": {
      "needs_background": "light"
     },
     "output_type": "display_data"
    },
    {
     "name": "stdout",
     "output_type": "stream",
     "text": [
      "NEW FAMILIES Mainstream\n",
      "Kettle      414\n",
      "Doritos     257\n",
      "Smiths      244\n",
      "Pringles    224\n",
      "Red         134\n",
      "Name: BRAND_NAME, dtype: int64\n"
     ]
    },
    {
     "data": {
      "image/png": "[encoded data removed]",
      "text/plain": [
       "<Figure size 432x288 with 1 Axes>"
      ]
     },
     "metadata": {
      "needs_background": "light"
     },
     "output_type": "display_data"
    },
    {
     "name": "stdout",
     "output_type": "stream",
     "text": [
      "OLDER FAMILIES Premium\n",
      "Kettle      1512\n",
      "Smiths      1448\n",
      "Pringles    1014\n",
      "Doritos      923\n",
      "Red          838\n",
      "Name: BRAND_NAME, dtype: int64\n"
     ]
    },
    {
     "data": {
      "image/png": "[encoded data removed]",
      "text/plain": [
       "<Figure size 432x288 with 1 Axes>"
      ]
     },
     "metadata": {
      "needs_background": "light"
     },
     "output_type": "display_data"
    },
    {
     "name": "stdout",
     "output_type": "stream",
     "text": [
      "OLDER FAMILIES Budget\n",
      "Kettle      3320\n",
      "Smiths      2948\n",
      "Doritos     2032\n",
      "Pringles    1996\n",
      "Red         1708\n",
      "Name: BRAND_NAME, dtype: int64\n"
     ]
    },
    {
     "data": {
      "image/png": "[encoded data removed]",
      "text/plain": [
       "<Figure size 432x288 with 1 Axes>"
      ]
     },
     "metadata": {
      "needs_background": "light"
     },
     "output_type": "display_data"
    },
    {
     "name": "stdout",
     "output_type": "stream",
     "text": [
      "OLDER FAMILIES Mainstream\n",
      "Kettle      2019\n",
      "Smiths      1742\n",
      "Doritos     1263\n",
      "Pringles    1234\n",
      "Red         1047\n",
      "Name: BRAND_NAME, dtype: int64\n"
     ]
    },
    {
     "data": {
      "image/png": "[encoded data removed]",
      "text/plain": [
       "<Figure size 432x288 with 1 Axes>"
      ]
     },
     "metadata": {
      "needs_background": "light"
     },
     "output_type": "display_data"
    },
    {
     "name": "stdout",
     "output_type": "stream",
     "text": [
      "OLDER SINGLES/COUPLES Premium\n",
      "Kettle      2947\n",
      "Smiths      1952\n",
      "Doritos     1784\n",
      "Pringles    1744\n",
      "Thins        997\n",
      "Name: BRAND_NAME, dtype: int64\n"
     ]
    },
    {
     "data": {
      "image/png": "[encoded data removed]",
      "text/plain": [
       "<Figure size 432x288 with 1 Axes>"
      ]
     },
     "metadata": {
      "needs_background": "light"
     },
     "output_type": "display_data"
    },
    {
     "name": "stdout",
     "output_type": "stream",
     "text": [
      "OLDER SINGLES/COUPLES Budget\n",
      "Kettle       3065\n",
      "Smiths       2010\n",
      "Pringles     1843\n",
      "Doritos      1751\n",
      "Infuzions    1043\n",
      "Name: BRAND_NAME, dtype: int64\n"
     ]
    },
    {
     "data": {
      "image/png": "[encoded data removed]",
      "text/plain": [
       "<Figure size 432x288 with 1 Axes>"
      ]
     },
     "metadata": {
      "needs_background": "light"
     },
     "output_type": "display_data"
    },
    {
     "name": "stdout",
     "output_type": "stream",
     "text": [
      "OLDER SINGLES/COUPLES Mainstream\n",
      "Kettle      2835\n",
      "Smiths      2070\n",
      "Doritos     1791\n",
      "Pringles    1720\n",
      "Red         1112\n",
      "Name: BRAND_NAME, dtype: int64\n"
     ]
    },
    {
     "data": {
      "image/png": "[encoded data removed]",
      "text/plain": [
       "<Figure size 432x288 with 1 Axes>"
      ]
     },
     "metadata": {
      "needs_background": "light"
     },
     "output_type": "display_data"
    },
    {
     "name": "stdout",
     "output_type": "stream",
     "text": [
      "RETIREES Premium\n",
      "Kettle       2216\n",
      "Smiths       1395\n",
      "Pringles     1331\n",
      "Doritos      1306\n",
      "Infuzions     758\n",
      "Name: BRAND_NAME, dtype: int64\n"
     ]
    },
    {
     "data": {
      "image/png": "[encoded data removed]",
      "text/plain": [
       "<Figure size 432x288 with 1 Axes>"
      ]
     },
     "metadata": {
      "needs_background": "light"
     },
     "output_type": "display_data"
    },
    {
     "name": "stdout",
     "output_type": "stream",
     "text": [
      "RETIREES Budget\n",
      "Kettle      2592\n",
      "Smiths      1612\n",
      "Doritos     1592\n",
      "Pringles    1517\n",
      "Thins        866\n",
      "Name: BRAND_NAME, dtype: int64\n"
     ]
    },
    {
     "data": {
      "image/png": "[encoded data removed]",
      "text/plain": [
       "<Figure size 432x288 with 1 Axes>"
      ]
     },
     "metadata": {
      "needs_background": "light"
     },
     "output_type": "display_data"
    },
    {
     "name": "stdout",
     "output_type": "stream",
     "text": [
      "RETIREES Mainstream\n",
      "Kettle      3386\n",
      "Smiths      2367\n",
      "Pringles    2103\n",
      "Doritos     2089\n",
      "Red         1223\n",
      "Name: BRAND_NAME, dtype: int64\n"
     ]
    },
    {
     "data": {
      "image/png": "[encoded data removed]",
      "text/plain": [
       "<Figure size 432x288 with 1 Axes>"
      ]
     },
     "metadata": {
      "needs_background": "light"
     },
     "output_type": "display_data"
    },
    {
     "name": "stdout",
     "output_type": "stream",
     "text": [
      "YOUNG FAMILIES Premium\n",
      "Kettle      1745\n",
      "Smiths      1384\n",
      "Pringles    1007\n",
      "Doritos     1002\n",
      "Red          860\n",
      "Name: BRAND_NAME, dtype: int64\n"
     ]
    },
    {
     "data": {
      "image/png": "[encoded data removed]",
      "text/plain": [
       "<Figure size 432x288 with 1 Axes>"
      ]
     },
     "metadata": {
      "needs_background": "light"
     },
     "output_type": "display_data"
    },
    {
     "name": "stdout",
     "output_type": "stream",
     "text": [
      "YOUNG FAMILIES Budget\n",
      "Kettle      2743\n",
      "Smiths      2334\n",
      "Doritos     1767\n",
      "Pringles    1674\n",
      "Red         1347\n",
      "Name: BRAND_NAME, dtype: int64\n"
     ]
    },
    {
     "data": {
      "image/png": "[encoded data removed]",
      "text/plain": [
       "<Figure size 432x288 with 1 Axes>"
      ]
     },
     "metadata": {
      "needs_background": "light"
     },
     "output_type": "display_data"
    },
    {
     "name": "stdout",
     "output_type": "stream",
     "text": [
      "YOUNG FAMILIES Mainstream\n",
      "Kettle      1789\n",
      "Smiths      1681\n",
      "Pringles    1148\n",
      "Doritos     1125\n",
      "Red          922\n",
      "Name: BRAND_NAME, dtype: int64\n"
     ]
    },
    {
     "data": {
      "image/png": "[encoded data removed]",
      "text/plain": [
       "<Figure size 432x288 with 1 Axes>"
      ]
     },
     "metadata": {
      "needs_background": "light"
     },
     "output_type": "display_data"
    }
   ],
   "source": [
    "# Finding out top 5 products used by brand name for Premium Customer and lifestage\n",
    "for cus in merged['LIFESTAGE'].unique():\n",
    "    for cus1 in merged['PREMIUM_CUSTOMER'].unique():\n",
    "        \n",
    "        total = merged[(merged['LIFESTAGE']==cus) & (merged['PREMIUM_CUSTOMER']==cus1)]['BRAND_NAME'].value_counts().head(5)\n",
    "        print(cus,cus1)\n",
    "        print(total)\n",
    "        total.plot(kind='bar',color='red')\n",
    "        plt.show()"
   ]
  },
  {
   "cell_type": "code",
   "execution_count": 137,
   "metadata": {},
   "outputs": [
    {
     "name": "stdout",
     "output_type": "stream",
     "text": [
      "YOUNG SINGLES/COUPLES Premium\n",
      "175    1618\n",
      "150     933\n",
      "134     537\n",
      "110     499\n",
      "170     452\n",
      "Name: PACT_SIZE, dtype: int64\n"
     ]
    },
    {
     "data": {
      "image/png": "[encoded data removed]",
      "text/plain": [
       "<Figure size 432x288 with 1 Axes>"
      ]
     },
     "metadata": {
      "needs_background": "light"
     },
     "output_type": "display_data"
    },
    {
     "name": "stdout",
     "output_type": "stream",
     "text": [
      "YOUNG SINGLES/COUPLES Budget\n",
      "175    2338\n",
      "150    1390\n",
      "134     832\n",
      "170     724\n",
      "110     677\n",
      "Name: PACT_SIZE, dtype: int64\n"
     ]
    },
    {
     "data": {
      "image/png": "[encoded data removed]",
      "text/plain": [
       "<Figure size 432x288 with 1 Axes>"
      ]
     },
     "metadata": {
      "needs_background": "light"
     },
     "output_type": "display_data"
    },
    {
     "name": "stdout",
     "output_type": "stream",
     "text": [
      "YOUNG SINGLES/COUPLES Mainstream\n",
      "175    4997\n",
      "150    3080\n",
      "134    2315\n",
      "110    2051\n",
      "170    1575\n",
      "Name: PACT_SIZE, dtype: int64\n"
     ]
    },
    {
     "data": {
      "image/png": "[encoded data removed]",
      "text/plain": [
       "<Figure size 432x288 with 1 Axes>"
      ]
     },
     "metadata": {
      "needs_background": "light"
     },
     "output_type": "display_data"
    },
    {
     "name": "stdout",
     "output_type": "stream",
     "text": [
      "MIDAGE SINGLES/COUPLES Premium\n",
      "175    2082\n",
      "150    1207\n",
      "134     781\n",
      "110     665\n",
      "170     583\n",
      "Name: PACT_SIZE, dtype: int64\n"
     ]
    },
    {
     "data": {
      "image/png": "[encoded data removed]",
      "text/plain": [
       "<Figure size 432x288 with 1 Axes>"
      ]
     },
     "metadata": {
      "needs_background": "light"
     },
     "output_type": "display_data"
    },
    {
     "name": "stdout",
     "output_type": "stream",
     "text": [
      "MIDAGE SINGLES/COUPLES Budget\n",
      "175    1277\n",
      "150     771\n",
      "134     449\n",
      "110     434\n",
      "170     370\n",
      "Name: PACT_SIZE, dtype: int64\n"
     ]
    },
    {
     "data": {
      "image/png": "[encoded data removed]",
      "text/plain": [
       "<Figure size 432x288 with 1 Axes>"
      ]
     },
     "metadata": {
      "needs_background": "light"
     },
     "output_type": "display_data"
    },
    {
     "name": "stdout",
     "output_type": "stream",
     "text": [
      "MIDAGE SINGLES/COUPLES Mainstream\n",
      "175    2975\n",
      "150    1777\n",
      "134    1159\n",
      "110    1124\n",
      "170     882\n",
      "Name: PACT_SIZE, dtype: int64\n"
     ]
    },
    {
     "data": {
      "image/png": "[encoded data removed]",
      "text/plain": [
       "<Figure size 432x288 with 1 Axes>"
      ]
     },
     "metadata": {
      "needs_background": "light"
     },
     "output_type": "display_data"
    },
    {
     "name": "stdout",
     "output_type": "stream",
     "text": [
      "NEW FAMILIES Premium\n",
      "175    376\n",
      "150    233\n",
      "134    165\n",
      "110    148\n",
      "170    113\n",
      "Name: PACT_SIZE, dtype: int64\n"
     ]
    },
    {
     "data": {
      "image/png": "[encoded data removed]",
      "text/plain": [
       "<Figure size 432x288 with 1 Axes>"
      ]
     },
     "metadata": {
      "needs_background": "light"
     },
     "output_type": "display_data"
    },
    {
     "name": "stdout",
     "output_type": "stream",
     "text": [
      "NEW FAMILIES Budget\n",
      "175    777\n",
      "150    440\n",
      "134    309\n",
      "110    291\n",
      "170    239\n",
      "Name: PACT_SIZE, dtype: int64\n"
     ]
    },
    {
     "data": {
      "image/png": "[encoded data removed]",
      "text/plain": [
       "<Figure size 432x288 with 1 Axes>"
      ]
     },
     "metadata": {
      "needs_background": "light"
     },
     "output_type": "display_data"
    },
    {
     "name": "stdout",
     "output_type": "stream",
     "text": [
      "NEW FAMILIES Mainstream\n",
      "175    589\n",
      "150    374\n",
      "134    224\n",
      "110    214\n",
      "170    169\n",
      "Name: PACT_SIZE, dtype: int64\n"
     ]
    },
    {
     "data": {
      "image/png": "[encoded data removed]",
      "text/plain": [
       "<Figure size 432x288 with 1 Axes>"
      ]
     },
     "metadata": {
      "needs_background": "light"
     },
     "output_type": "display_data"
    },
    {
     "name": "stdout",
     "output_type": "stream",
     "text": [
      "OLDER FAMILIES Premium\n",
      "175    2816\n",
      "150    1673\n",
      "134    1014\n",
      "110     875\n",
      "170     825\n",
      "Name: PACT_SIZE, dtype: int64\n"
     ]
    },
    {
     "data": {
      "image/png": "[encoded data removed]",
      "text/plain": [
       "<Figure size 432x288 with 1 Axes>"
      ]
     },
     "metadata": {
      "needs_background": "light"
     },
     "output_type": "display_data"
    },
    {
     "name": "stdout",
     "output_type": "stream",
     "text": [
      "OLDER FAMILIES Budget\n",
      "175    5808\n",
      "150    3588\n",
      "134    1996\n",
      "110    1803\n",
      "170    1786\n",
      "Name: PACT_SIZE, dtype: int64\n"
     ]
    },
    {
     "data": {
      "image/png": "[encoded data removed]",
      "text/plain": [
       "<Figure size 432x288 with 1 Axes>"
      ]
     },
     "metadata": {
      "needs_background": "light"
     },
     "output_type": "display_data"
    },
    {
     "name": "stdout",
     "output_type": "stream",
     "text": [
      "OLDER FAMILIES Mainstream\n",
      "175    3588\n",
      "150    2189\n",
      "134    1234\n",
      "110    1131\n",
      "170    1073\n",
      "Name: PACT_SIZE, dtype: int64\n"
     ]
    },
    {
     "data": {
      "image/png": "[encoded data removed]",
      "text/plain": [
       "<Figure size 432x288 with 1 Axes>"
      ]
     },
     "metadata": {
      "needs_background": "light"
     },
     "output_type": "display_data"
    },
    {
     "name": "stdout",
     "output_type": "stream",
     "text": [
      "OLDER SINGLES/COUPLES Premium\n",
      "175    4458\n",
      "150    2768\n",
      "134    1744\n",
      "110    1504\n",
      "170    1324\n",
      "Name: PACT_SIZE, dtype: int64\n"
     ]
    },
    {
     "data": {
      "image/png": "[encoded data removed]",
      "text/plain": [
       "<Figure size 432x288 with 1 Axes>"
      ]
     },
     "metadata": {
      "needs_background": "light"
     },
     "output_type": "display_data"
    },
    {
     "name": "stdout",
     "output_type": "stream",
     "text": [
      "OLDER SINGLES/COUPLES Budget\n",
      "175    4625\n",
      "150    2811\n",
      "134    1843\n",
      "110    1629\n",
      "170    1321\n",
      "Name: PACT_SIZE, dtype: int64\n"
     ]
    },
    {
     "data": {
      "image/png": "[encoded data removed]",
      "text/plain": [
       "<Figure size 432x288 with 1 Axes>"
      ]
     },
     "metadata": {
      "needs_background": "light"
     },
     "output_type": "display_data"
    },
    {
     "name": "stdout",
     "output_type": "stream",
     "text": [
      "OLDER SINGLES/COUPLES Mainstream\n",
      "175    4525\n",
      "150    2773\n",
      "134    1720\n",
      "110    1557\n",
      "170    1433\n",
      "Name: PACT_SIZE, dtype: int64\n"
     ]
    },
    {
     "data": {
      "image/png": "[encoded data removed]",
      "text/plain": [
       "<Figure size 432x288 with 1 Axes>"
      ]
     },
     "metadata": {
      "needs_background": "light"
     },
     "output_type": "display_data"
    },
    {
     "name": "stdout",
     "output_type": "stream",
     "text": [
      "RETIREES Premium\n",
      "175    3306\n",
      "150    1943\n",
      "134    1331\n",
      "110    1193\n",
      "170     959\n",
      "Name: PACT_SIZE, dtype: int64\n"
     ]
    },
    {
     "data": {
      "image/png": "[encoded data removed]",
      "text/plain": [
       "<Figure size 432x288 with 1 Axes>"
      ]
     },
     "metadata": {
      "needs_background": "light"
     },
     "output_type": "display_data"
    },
    {
     "name": "stdout",
     "output_type": "stream",
     "text": [
      "RETIREES Budget\n",
      "175    3847\n",
      "150    2319\n",
      "134    1517\n",
      "110    1318\n",
      "170    1169\n",
      "Name: PACT_SIZE, dtype: int64\n"
     ]
    },
    {
     "data": {
      "image/png": "[encoded data removed]",
      "text/plain": [
       "<Figure size 432x288 with 1 Axes>"
      ]
     },
     "metadata": {
      "needs_background": "light"
     },
     "output_type": "display_data"
    },
    {
     "name": "stdout",
     "output_type": "stream",
     "text": [
      "RETIREES Mainstream\n",
      "175    5295\n",
      "150    3290\n",
      "134    2103\n",
      "110    1829\n",
      "170    1636\n",
      "Name: PACT_SIZE, dtype: int64\n"
     ]
    },
    {
     "data": {
      "image/png": "[encoded data removed]",
      "text/plain": [
       "<Figure size 432x288 with 1 Axes>"
      ]
     },
     "metadata": {
      "needs_background": "light"
     },
     "output_type": "display_data"
    },
    {
     "name": "stdout",
     "output_type": "stream",
     "text": [
      "YOUNG FAMILIES Premium\n",
      "175    2998\n",
      "150    1778\n",
      "134    1007\n",
      "110     947\n",
      "170     850\n",
      "Name: PACT_SIZE, dtype: int64\n"
     ]
    },
    {
     "data": {
      "image/png": "[encoded data removed]",
      "text/plain": [
       "<Figure size 432x288 with 1 Axes>"
      ]
     },
     "metadata": {
      "needs_background": "light"
     },
     "output_type": "display_data"
    },
    {
     "name": "stdout",
     "output_type": "stream",
     "text": [
      "YOUNG FAMILIES Budget\n",
      "175    4921\n",
      "150    2862\n",
      "134    1674\n",
      "110    1488\n",
      "170    1484\n",
      "Name: PACT_SIZE, dtype: int64\n"
     ]
    },
    {
     "data": {
      "image/png": "[encoded data removed]",
      "text/plain": [
       "<Figure size 432x288 with 1 Axes>"
      ]
     },
     "metadata": {
      "needs_background": "light"
     },
     "output_type": "display_data"
    },
    {
     "name": "stdout",
     "output_type": "stream",
     "text": [
      "YOUNG FAMILIES Mainstream\n",
      "175    3174\n",
      "150    2004\n",
      "134    1148\n",
      "170    1016\n",
      "110    1010\n",
      "Name: PACT_SIZE, dtype: int64\n"
     ]
    },
    {
     "data": {
      "image/png": "[encoded data removed]",
      "text/plain": [
       "<Figure size 432x288 with 1 Axes>"
      ]
     },
     "metadata": {
      "needs_background": "light"
     },
     "output_type": "display_data"
    }
   ],
   "source": [
    "for life in merged['LIFESTAGE'].unique():\n",
    "    for pre in merged['PREMIUM_CUSTOMER'].unique():\n",
    "        \n",
    "        total = merged[(merged['LIFESTAGE']==life) & (merged['PREMIUM_CUSTOMER']==pre)]['PACT_SIZE'].value_counts().head(5)\n",
    "        print(life,pre)\n",
    "        print(total)\n",
    "        total.plot(kind='bar',color='red')\n",
    "        plt.show()"
   ]
  },
  {
   "cell_type": "markdown",
   "metadata": {},
   "source": [
    "# TOTAL SALES OF EACH SEGMENT"
   ]
  },
  {
   "cell_type": "code",
   "execution_count": 123,
   "metadata": {},
   "outputs": [],
   "source": [
    "cus = merged.groupby(['LIFESTAGE','PREMIUM_CUSTOMER'])['TOT_SALES']\n",
    " #Total sales of customer groupby lifestage and Premium Customer"
   ]
  },
  {
   "cell_type": "code",
   "execution_count": 125,
   "metadata": {},
   "outputs": [],
   "source": [
    "cus = cus.agg(['sum'])"
   ]
  },
  {
   "cell_type": "code",
   "execution_count": 126,
   "metadata": {},
   "outputs": [],
   "source": [
    "cus = pd.DataFrame(cus) #Converting Series to DataFRame"
   ]
  },
  {
   "cell_type": "code",
   "execution_count": 358,
   "metadata": {},
   "outputs": [
    {
     "data": {
      "text/html": [
       "<div>\n",
       "<style scoped>\n",
       "    .dataframe tbody tr th:only-of-type {\n",
       "        vertical-align: middle;\n",
       "    }\n",
       "\n",
       "    .dataframe tbody tr th {\n",
       "        vertical-align: top;\n",
       "    }\n",
       "\n",
       "    .dataframe thead th {\n",
       "        text-align: right;\n",
       "    }\n",
       "</style>\n",
       "<table border=\"1\" class=\"dataframe\">\n",
       "  <thead>\n",
       "    <tr style=\"text-align: right;\">\n",
       "      <th></th>\n",
       "      <th></th>\n",
       "      <th>sum</th>\n",
       "    </tr>\n",
       "    <tr>\n",
       "      <th>LIFESTAGE</th>\n",
       "      <th>PREMIUM_CUSTOMER</th>\n",
       "      <th></th>\n",
       "    </tr>\n",
       "  </thead>\n",
       "  <tbody>\n",
       "    <tr>\n",
       "      <th rowspan=\"3\" valign=\"top\">MIDAGE SINGLES/COUPLES</th>\n",
       "      <th>Budget</th>\n",
       "      <td>33345.70</td>\n",
       "    </tr>\n",
       "    <tr>\n",
       "      <th>Mainstream</th>\n",
       "      <td>84734.25</td>\n",
       "    </tr>\n",
       "    <tr>\n",
       "      <th>Premium</th>\n",
       "      <td>54443.85</td>\n",
       "    </tr>\n",
       "    <tr>\n",
       "      <th rowspan=\"3\" valign=\"top\">NEW FAMILIES</th>\n",
       "      <th>Budget</th>\n",
       "      <td>20607.45</td>\n",
       "    </tr>\n",
       "    <tr>\n",
       "      <th>Mainstream</th>\n",
       "      <td>15979.70</td>\n",
       "    </tr>\n",
       "    <tr>\n",
       "      <th>Premium</th>\n",
       "      <td>10760.80</td>\n",
       "    </tr>\n",
       "    <tr>\n",
       "      <th rowspan=\"3\" valign=\"top\">OLDER FAMILIES</th>\n",
       "      <th>Budget</th>\n",
       "      <td>156863.75</td>\n",
       "    </tr>\n",
       "    <tr>\n",
       "      <th>Mainstream</th>\n",
       "      <td>96413.55</td>\n",
       "    </tr>\n",
       "    <tr>\n",
       "      <th>Premium</th>\n",
       "      <td>75242.60</td>\n",
       "    </tr>\n",
       "    <tr>\n",
       "      <th rowspan=\"3\" valign=\"top\">OLDER SINGLES/COUPLES</th>\n",
       "      <th>Budget</th>\n",
       "      <td>127833.60</td>\n",
       "    </tr>\n",
       "    <tr>\n",
       "      <th>Mainstream</th>\n",
       "      <td>124648.50</td>\n",
       "    </tr>\n",
       "    <tr>\n",
       "      <th>Premium</th>\n",
       "      <td>123537.55</td>\n",
       "    </tr>\n",
       "    <tr>\n",
       "      <th rowspan=\"3\" valign=\"top\">RETIREES</th>\n",
       "      <th>Budget</th>\n",
       "      <td>105916.30</td>\n",
       "    </tr>\n",
       "    <tr>\n",
       "      <th>Mainstream</th>\n",
       "      <td>145168.95</td>\n",
       "    </tr>\n",
       "    <tr>\n",
       "      <th>Premium</th>\n",
       "      <td>91296.65</td>\n",
       "    </tr>\n",
       "    <tr>\n",
       "      <th rowspan=\"3\" valign=\"top\">YOUNG FAMILIES</th>\n",
       "      <th>Budget</th>\n",
       "      <td>129717.95</td>\n",
       "    </tr>\n",
       "    <tr>\n",
       "      <th>Mainstream</th>\n",
       "      <td>86338.25</td>\n",
       "    </tr>\n",
       "    <tr>\n",
       "      <th>Premium</th>\n",
       "      <td>78571.70</td>\n",
       "    </tr>\n",
       "    <tr>\n",
       "      <th rowspan=\"3\" valign=\"top\">YOUNG SINGLES/COUPLES</th>\n",
       "      <th>Budget</th>\n",
       "      <td>57122.10</td>\n",
       "    </tr>\n",
       "    <tr>\n",
       "      <th>Mainstream</th>\n",
       "      <td>147582.20</td>\n",
       "    </tr>\n",
       "    <tr>\n",
       "      <th>Premium</th>\n",
       "      <td>39052.30</td>\n",
       "    </tr>\n",
       "  </tbody>\n",
       "</table>\n",
       "</div>"
      ],
      "text/plain": [
       "                                               sum\n",
       "LIFESTAGE              PREMIUM_CUSTOMER           \n",
       "MIDAGE SINGLES/COUPLES Budget             33345.70\n",
       "                       Mainstream         84734.25\n",
       "                       Premium            54443.85\n",
       "NEW FAMILIES           Budget             20607.45\n",
       "                       Mainstream         15979.70\n",
       "                       Premium            10760.80\n",
       "OLDER FAMILIES         Budget            156863.75\n",
       "                       Mainstream         96413.55\n",
       "                       Premium            75242.60\n",
       "OLDER SINGLES/COUPLES  Budget            127833.60\n",
       "                       Mainstream        124648.50\n",
       "                       Premium           123537.55\n",
       "RETIREES               Budget            105916.30\n",
       "                       Mainstream        145168.95\n",
       "                       Premium            91296.65\n",
       "YOUNG FAMILIES         Budget            129717.95\n",
       "                       Mainstream         86338.25\n",
       "                       Premium            78571.70\n",
       "YOUNG SINGLES/COUPLES  Budget             57122.10\n",
       "                       Mainstream        147582.20\n",
       "                       Premium            39052.30"
      ]
     },
     "execution_count": 358,
     "metadata": {},
     "output_type": "execute_result"
    }
   ],
   "source": [
    "cus"
   ]
  },
  {
   "cell_type": "code",
   "execution_count": 201,
   "metadata": {},
   "outputs": [
    {
     "data": {
      "text/plain": [
       "<AxesSubplot:xlabel='LIFESTAGE', ylabel='sum'>"
      ]
     },
     "execution_count": 201,
     "metadata": {},
     "output_type": "execute_result"
    },
    {
     "data": {
      "image/png": "[encoded data removed]",
      "text/plain": [
       "<Figure size 1440x720 with 1 Axes>"
      ]
     },
     "metadata": {
      "needs_background": "light"
     },
     "output_type": "display_data"
    }
   ],
   "source": [
    "plt.figure(figsize=(20,10))\n",
    "sns.barplot(y=cus.reset_index()['sum'],x=cus.reset_index()['LIFESTAGE'],hue=cus.reset_index()['PREMIUM_CUSTOMER'])"
   ]
  },
  {
   "cell_type": "markdown",
   "metadata": {},
   "source": [
    "# TOTAL COUNT OF EACH PACKET SIZE"
   ]
  },
  {
   "cell_type": "code",
   "execution_count": 231,
   "metadata": {},
   "outputs": [],
   "source": [
    "a = merged.groupby(['PACT_SIZE']).size()"
   ]
  },
  {
   "cell_type": "code",
   "execution_count": 233,
   "metadata": {},
   "outputs": [
    {
     "data": {
      "text/plain": [
       "<AxesSubplot:xlabel='PACT_SIZE'>"
      ]
     },
     "execution_count": 233,
     "metadata": {},
     "output_type": "execute_result"
    },
    {
     "data": {
      "image/png": "[encoded data removed]",
      "text/plain": [
       "<Figure size 432x288 with 1 Axes>"
      ]
     },
     "metadata": {
      "needs_background": "light"
     },
     "output_type": "display_data"
    }
   ],
   "source": [
    "a.plot(kind='bar')"
   ]
  },
  {
   "cell_type": "markdown",
   "metadata": {},
   "source": [
    "# TOTAL SIZE OF EACH PREMIUM CUSTOMER"
   ]
  },
  {
   "cell_type": "code",
   "execution_count": 235,
   "metadata": {},
   "outputs": [],
   "source": [
    "total_sales_by_pre = merged.groupby(['PREMIUM_CUSTOMER'])['TOT_SALES'].sum()"
   ]
  },
  {
   "cell_type": "code",
   "execution_count": 237,
   "metadata": {},
   "outputs": [],
   "source": [
    "total_sales_by_pre =pd.DataFrame(total_sales_by_pre)"
   ]
  },
  {
   "cell_type": "code",
   "execution_count": 238,
   "metadata": {},
   "outputs": [
    {
     "data": {
      "text/html": [
       "<div>\n",
       "<style scoped>\n",
       "    .dataframe tbody tr th:only-of-type {\n",
       "        vertical-align: middle;\n",
       "    }\n",
       "\n",
       "    .dataframe tbody tr th {\n",
       "        vertical-align: top;\n",
       "    }\n",
       "\n",
       "    .dataframe thead th {\n",
       "        text-align: right;\n",
       "    }\n",
       "</style>\n",
       "<table border=\"1\" class=\"dataframe\">\n",
       "  <thead>\n",
       "    <tr style=\"text-align: right;\">\n",
       "      <th></th>\n",
       "      <th>TOT_SALES</th>\n",
       "    </tr>\n",
       "    <tr>\n",
       "      <th>PREMIUM_CUSTOMER</th>\n",
       "      <th></th>\n",
       "    </tr>\n",
       "  </thead>\n",
       "  <tbody>\n",
       "    <tr>\n",
       "      <th>Budget</th>\n",
       "      <td>631406.85</td>\n",
       "    </tr>\n",
       "    <tr>\n",
       "      <th>Mainstream</th>\n",
       "      <td>700865.40</td>\n",
       "    </tr>\n",
       "    <tr>\n",
       "      <th>Premium</th>\n",
       "      <td>472905.45</td>\n",
       "    </tr>\n",
       "  </tbody>\n",
       "</table>\n",
       "</div>"
      ],
      "text/plain": [
       "                  TOT_SALES\n",
       "PREMIUM_CUSTOMER           \n",
       "Budget            631406.85\n",
       "Mainstream        700865.40\n",
       "Premium           472905.45"
      ]
     },
     "execution_count": 238,
     "metadata": {},
     "output_type": "execute_result"
    }
   ],
   "source": [
    "total_sales_by_pre"
   ]
  },
  {
   "cell_type": "code",
   "execution_count": 248,
   "metadata": {},
   "outputs": [
    {
     "data": {
      "text/plain": [
       "<AxesSubplot:xlabel='Premium', ylabel='TOTAL_SALES'>"
      ]
     },
     "execution_count": 248,
     "metadata": {},
     "output_type": "execute_result"
    },
    {
     "data": {
      "image/png": "[encoded data removed]",
      "text/plain": [
       "<Figure size 432x288 with 1 Axes>"
      ]
     },
     "metadata": {
      "needs_background": "light"
     },
     "output_type": "display_data"
    }
   ],
   "source": [
    "total_sales_by_pre.plot(kind='bar',xlabel='Premium',ylabel='TOTAL_SALES')"
   ]
  },
  {
   "cell_type": "markdown",
   "metadata": {},
   "source": [
    "# AVERAGE SALES QUANTITY"
   ]
  },
  {
   "cell_type": "code",
   "execution_count": 250,
   "metadata": {},
   "outputs": [],
   "source": [
    "avg_sal = merged.groupby(['LIFESTAGE','PREMIUM_CUSTOMER'])['PROD_QTY'].sum()"
   ]
  },
  {
   "cell_type": "code",
   "execution_count": 251,
   "metadata": {},
   "outputs": [],
   "source": [
    "avg_sal.columns = ['Sales_QTY']"
   ]
  },
  {
   "cell_type": "code",
   "execution_count": 253,
   "metadata": {},
   "outputs": [],
   "source": [
    "avg_sal = pd.DataFrame(avg_sal)"
   ]
  },
  {
   "cell_type": "code",
   "execution_count": 254,
   "metadata": {},
   "outputs": [
    {
     "data": {
      "text/html": [
       "<div>\n",
       "<style scoped>\n",
       "    .dataframe tbody tr th:only-of-type {\n",
       "        vertical-align: middle;\n",
       "    }\n",
       "\n",
       "    .dataframe tbody tr th {\n",
       "        vertical-align: top;\n",
       "    }\n",
       "\n",
       "    .dataframe thead th {\n",
       "        text-align: right;\n",
       "    }\n",
       "</style>\n",
       "<table border=\"1\" class=\"dataframe\">\n",
       "  <thead>\n",
       "    <tr style=\"text-align: right;\">\n",
       "      <th></th>\n",
       "      <th></th>\n",
       "      <th>PROD_QTY</th>\n",
       "    </tr>\n",
       "    <tr>\n",
       "      <th>LIFESTAGE</th>\n",
       "      <th>PREMIUM_CUSTOMER</th>\n",
       "      <th></th>\n",
       "    </tr>\n",
       "  </thead>\n",
       "  <tbody>\n",
       "    <tr>\n",
       "      <th rowspan=\"3\" valign=\"top\">MIDAGE SINGLES/COUPLES</th>\n",
       "      <th>Budget</th>\n",
       "      <td>8883</td>\n",
       "    </tr>\n",
       "    <tr>\n",
       "      <th>Mainstream</th>\n",
       "      <td>21213</td>\n",
       "    </tr>\n",
       "    <tr>\n",
       "      <th>Premium</th>\n",
       "      <td>14400</td>\n",
       "    </tr>\n",
       "    <tr>\n",
       "      <th rowspan=\"3\" valign=\"top\">NEW FAMILIES</th>\n",
       "      <th>Budget</th>\n",
       "      <td>5241</td>\n",
       "    </tr>\n",
       "    <tr>\n",
       "      <th>Mainstream</th>\n",
       "      <td>4060</td>\n",
       "    </tr>\n",
       "    <tr>\n",
       "      <th>Premium</th>\n",
       "      <td>2769</td>\n",
       "    </tr>\n",
       "    <tr>\n",
       "      <th rowspan=\"3\" valign=\"top\">OLDER FAMILIES</th>\n",
       "      <th>Budget</th>\n",
       "      <td>41853</td>\n",
       "    </tr>\n",
       "    <tr>\n",
       "      <th>Mainstream</th>\n",
       "      <td>25804</td>\n",
       "    </tr>\n",
       "    <tr>\n",
       "      <th>Premium</th>\n",
       "      <td>20239</td>\n",
       "    </tr>\n",
       "    <tr>\n",
       "      <th rowspan=\"3\" valign=\"top\">OLDER SINGLES/COUPLES</th>\n",
       "      <th>Budget</th>\n",
       "      <td>32883</td>\n",
       "    </tr>\n",
       "    <tr>\n",
       "      <th>Mainstream</th>\n",
       "      <td>32607</td>\n",
       "    </tr>\n",
       "    <tr>\n",
       "      <th>Premium</th>\n",
       "      <td>31695</td>\n",
       "    </tr>\n",
       "    <tr>\n",
       "      <th rowspan=\"3\" valign=\"top\">RETIREES</th>\n",
       "      <th>Budget</th>\n",
       "      <td>26932</td>\n",
       "    </tr>\n",
       "    <tr>\n",
       "      <th>Mainstream</th>\n",
       "      <td>37677</td>\n",
       "    </tr>\n",
       "    <tr>\n",
       "      <th>Premium</th>\n",
       "      <td>23266</td>\n",
       "    </tr>\n",
       "    <tr>\n",
       "      <th rowspan=\"3\" valign=\"top\">YOUNG FAMILIES</th>\n",
       "      <th>Budget</th>\n",
       "      <td>34482</td>\n",
       "    </tr>\n",
       "    <tr>\n",
       "      <th>Mainstream</th>\n",
       "      <td>23194</td>\n",
       "    </tr>\n",
       "    <tr>\n",
       "      <th>Premium</th>\n",
       "      <td>20901</td>\n",
       "    </tr>\n",
       "    <tr>\n",
       "      <th rowspan=\"3\" valign=\"top\">YOUNG SINGLES/COUPLES</th>\n",
       "      <th>Budget</th>\n",
       "      <td>15500</td>\n",
       "    </tr>\n",
       "    <tr>\n",
       "      <th>Mainstream</th>\n",
       "      <td>36225</td>\n",
       "    </tr>\n",
       "    <tr>\n",
       "      <th>Premium</th>\n",
       "      <td>10575</td>\n",
       "    </tr>\n",
       "  </tbody>\n",
       "</table>\n",
       "</div>"
      ],
      "text/plain": [
       "                                         PROD_QTY\n",
       "LIFESTAGE              PREMIUM_CUSTOMER          \n",
       "MIDAGE SINGLES/COUPLES Budget                8883\n",
       "                       Mainstream           21213\n",
       "                       Premium              14400\n",
       "NEW FAMILIES           Budget                5241\n",
       "                       Mainstream            4060\n",
       "                       Premium               2769\n",
       "OLDER FAMILIES         Budget               41853\n",
       "                       Mainstream           25804\n",
       "                       Premium              20239\n",
       "OLDER SINGLES/COUPLES  Budget               32883\n",
       "                       Mainstream           32607\n",
       "                       Premium              31695\n",
       "RETIREES               Budget               26932\n",
       "                       Mainstream           37677\n",
       "                       Premium              23266\n",
       "YOUNG FAMILIES         Budget               34482\n",
       "                       Mainstream           23194\n",
       "                       Premium              20901\n",
       "YOUNG SINGLES/COUPLES  Budget               15500\n",
       "                       Mainstream           36225\n",
       "                       Premium              10575"
      ]
     },
     "execution_count": 254,
     "metadata": {},
     "output_type": "execute_result"
    }
   ],
   "source": [
    "avg_sal"
   ]
  },
  {
   "cell_type": "code",
   "execution_count": 273,
   "metadata": {},
   "outputs": [],
   "source": [
    "merge = pd.merge(avg_sal,cus_life,on=['LIFESTAGE','PREMIUM_CUSTOMER'])"
   ]
  },
  {
   "cell_type": "code",
   "execution_count": 277,
   "metadata": {},
   "outputs": [],
   "source": [
    "merge =merge.rename(columns={'LYLTY_CARD_NBR':'Customer_count'})"
   ]
  },
  {
   "cell_type": "code",
   "execution_count": 278,
   "metadata": {},
   "outputs": [
    {
     "data": {
      "text/html": [
       "<div>\n",
       "<style scoped>\n",
       "    .dataframe tbody tr th:only-of-type {\n",
       "        vertical-align: middle;\n",
       "    }\n",
       "\n",
       "    .dataframe tbody tr th {\n",
       "        vertical-align: top;\n",
       "    }\n",
       "\n",
       "    .dataframe thead th {\n",
       "        text-align: right;\n",
       "    }\n",
       "</style>\n",
       "<table border=\"1\" class=\"dataframe\">\n",
       "  <thead>\n",
       "    <tr style=\"text-align: right;\">\n",
       "      <th></th>\n",
       "      <th></th>\n",
       "      <th>PROD_QTY</th>\n",
       "      <th>Customer_count</th>\n",
       "    </tr>\n",
       "    <tr>\n",
       "      <th>LIFESTAGE</th>\n",
       "      <th>PREMIUM_CUSTOMER</th>\n",
       "      <th></th>\n",
       "      <th></th>\n",
       "    </tr>\n",
       "  </thead>\n",
       "  <tbody>\n",
       "    <tr>\n",
       "      <th rowspan=\"3\" valign=\"top\">MIDAGE SINGLES/COUPLES</th>\n",
       "      <th>Budget</th>\n",
       "      <td>8883</td>\n",
       "      <td>1474</td>\n",
       "    </tr>\n",
       "    <tr>\n",
       "      <th>Mainstream</th>\n",
       "      <td>21213</td>\n",
       "      <td>3298</td>\n",
       "    </tr>\n",
       "    <tr>\n",
       "      <th>Premium</th>\n",
       "      <td>14400</td>\n",
       "      <td>2369</td>\n",
       "    </tr>\n",
       "    <tr>\n",
       "      <th rowspan=\"3\" valign=\"top\">NEW FAMILIES</th>\n",
       "      <th>Budget</th>\n",
       "      <td>5241</td>\n",
       "      <td>1087</td>\n",
       "    </tr>\n",
       "    <tr>\n",
       "      <th>Mainstream</th>\n",
       "      <td>4060</td>\n",
       "      <td>830</td>\n",
       "    </tr>\n",
       "    <tr>\n",
       "      <th>Premium</th>\n",
       "      <td>2769</td>\n",
       "      <td>575</td>\n",
       "    </tr>\n",
       "    <tr>\n",
       "      <th rowspan=\"3\" valign=\"top\">OLDER FAMILIES</th>\n",
       "      <th>Budget</th>\n",
       "      <td>41853</td>\n",
       "      <td>4611</td>\n",
       "    </tr>\n",
       "    <tr>\n",
       "      <th>Mainstream</th>\n",
       "      <td>25804</td>\n",
       "      <td>2788</td>\n",
       "    </tr>\n",
       "    <tr>\n",
       "      <th>Premium</th>\n",
       "      <td>20239</td>\n",
       "      <td>2231</td>\n",
       "    </tr>\n",
       "    <tr>\n",
       "      <th rowspan=\"3\" valign=\"top\">OLDER SINGLES/COUPLES</th>\n",
       "      <th>Budget</th>\n",
       "      <td>32883</td>\n",
       "      <td>4849</td>\n",
       "    </tr>\n",
       "    <tr>\n",
       "      <th>Mainstream</th>\n",
       "      <td>32607</td>\n",
       "      <td>4858</td>\n",
       "    </tr>\n",
       "    <tr>\n",
       "      <th>Premium</th>\n",
       "      <td>31695</td>\n",
       "      <td>4682</td>\n",
       "    </tr>\n",
       "    <tr>\n",
       "      <th rowspan=\"3\" valign=\"top\">RETIREES</th>\n",
       "      <th>Budget</th>\n",
       "      <td>26932</td>\n",
       "      <td>4385</td>\n",
       "    </tr>\n",
       "    <tr>\n",
       "      <th>Mainstream</th>\n",
       "      <td>37677</td>\n",
       "      <td>6358</td>\n",
       "    </tr>\n",
       "    <tr>\n",
       "      <th>Premium</th>\n",
       "      <td>23266</td>\n",
       "      <td>3812</td>\n",
       "    </tr>\n",
       "    <tr>\n",
       "      <th rowspan=\"3\" valign=\"top\">YOUNG FAMILIES</th>\n",
       "      <th>Budget</th>\n",
       "      <td>34482</td>\n",
       "      <td>3953</td>\n",
       "    </tr>\n",
       "    <tr>\n",
       "      <th>Mainstream</th>\n",
       "      <td>23194</td>\n",
       "      <td>2685</td>\n",
       "    </tr>\n",
       "    <tr>\n",
       "      <th>Premium</th>\n",
       "      <td>20901</td>\n",
       "      <td>2398</td>\n",
       "    </tr>\n",
       "    <tr>\n",
       "      <th rowspan=\"3\" valign=\"top\">YOUNG SINGLES/COUPLES</th>\n",
       "      <th>Budget</th>\n",
       "      <td>15500</td>\n",
       "      <td>3647</td>\n",
       "    </tr>\n",
       "    <tr>\n",
       "      <th>Mainstream</th>\n",
       "      <td>36225</td>\n",
       "      <td>7917</td>\n",
       "    </tr>\n",
       "    <tr>\n",
       "      <th>Premium</th>\n",
       "      <td>10575</td>\n",
       "      <td>2480</td>\n",
       "    </tr>\n",
       "  </tbody>\n",
       "</table>\n",
       "</div>"
      ],
      "text/plain": [
       "                                         PROD_QTY  Customer_count\n",
       "LIFESTAGE              PREMIUM_CUSTOMER                          \n",
       "MIDAGE SINGLES/COUPLES Budget                8883            1474\n",
       "                       Mainstream           21213            3298\n",
       "                       Premium              14400            2369\n",
       "NEW FAMILIES           Budget                5241            1087\n",
       "                       Mainstream            4060             830\n",
       "                       Premium               2769             575\n",
       "OLDER FAMILIES         Budget               41853            4611\n",
       "                       Mainstream           25804            2788\n",
       "                       Premium              20239            2231\n",
       "OLDER SINGLES/COUPLES  Budget               32883            4849\n",
       "                       Mainstream           32607            4858\n",
       "                       Premium              31695            4682\n",
       "RETIREES               Budget               26932            4385\n",
       "                       Mainstream           37677            6358\n",
       "                       Premium              23266            3812\n",
       "YOUNG FAMILIES         Budget               34482            3953\n",
       "                       Mainstream           23194            2685\n",
       "                       Premium              20901            2398\n",
       "YOUNG SINGLES/COUPLES  Budget               15500            3647\n",
       "                       Mainstream           36225            7917\n",
       "                       Premium              10575            2480"
      ]
     },
     "execution_count": 278,
     "metadata": {},
     "output_type": "execute_result"
    }
   ],
   "source": [
    "merge"
   ]
  },
  {
   "cell_type": "code",
   "execution_count": 279,
   "metadata": {},
   "outputs": [],
   "source": [
    "merge['avg_sal_Qty'] = merge['PROD_QTY']/merge['Customer_count']"
   ]
  },
  {
   "cell_type": "code",
   "execution_count": 280,
   "metadata": {},
   "outputs": [
    {
     "data": {
      "text/html": [
       "<div>\n",
       "<style scoped>\n",
       "    .dataframe tbody tr th:only-of-type {\n",
       "        vertical-align: middle;\n",
       "    }\n",
       "\n",
       "    .dataframe tbody tr th {\n",
       "        vertical-align: top;\n",
       "    }\n",
       "\n",
       "    .dataframe thead th {\n",
       "        text-align: right;\n",
       "    }\n",
       "</style>\n",
       "<table border=\"1\" class=\"dataframe\">\n",
       "  <thead>\n",
       "    <tr style=\"text-align: right;\">\n",
       "      <th></th>\n",
       "      <th></th>\n",
       "      <th>PROD_QTY</th>\n",
       "      <th>Customer_count</th>\n",
       "      <th>avg_sal_Qty</th>\n",
       "    </tr>\n",
       "    <tr>\n",
       "      <th>LIFESTAGE</th>\n",
       "      <th>PREMIUM_CUSTOMER</th>\n",
       "      <th></th>\n",
       "      <th></th>\n",
       "      <th></th>\n",
       "    </tr>\n",
       "  </thead>\n",
       "  <tbody>\n",
       "    <tr>\n",
       "      <th rowspan=\"3\" valign=\"top\">MIDAGE SINGLES/COUPLES</th>\n",
       "      <th>Budget</th>\n",
       "      <td>8883</td>\n",
       "      <td>1474</td>\n",
       "      <td>6.026459</td>\n",
       "    </tr>\n",
       "    <tr>\n",
       "      <th>Mainstream</th>\n",
       "      <td>21213</td>\n",
       "      <td>3298</td>\n",
       "      <td>6.432080</td>\n",
       "    </tr>\n",
       "    <tr>\n",
       "      <th>Premium</th>\n",
       "      <td>14400</td>\n",
       "      <td>2369</td>\n",
       "      <td>6.078514</td>\n",
       "    </tr>\n",
       "    <tr>\n",
       "      <th rowspan=\"3\" valign=\"top\">NEW FAMILIES</th>\n",
       "      <th>Budget</th>\n",
       "      <td>5241</td>\n",
       "      <td>1087</td>\n",
       "      <td>4.821527</td>\n",
       "    </tr>\n",
       "    <tr>\n",
       "      <th>Mainstream</th>\n",
       "      <td>4060</td>\n",
       "      <td>830</td>\n",
       "      <td>4.891566</td>\n",
       "    </tr>\n",
       "    <tr>\n",
       "      <th>Premium</th>\n",
       "      <td>2769</td>\n",
       "      <td>575</td>\n",
       "      <td>4.815652</td>\n",
       "    </tr>\n",
       "    <tr>\n",
       "      <th rowspan=\"3\" valign=\"top\">OLDER FAMILIES</th>\n",
       "      <th>Budget</th>\n",
       "      <td>41853</td>\n",
       "      <td>4611</td>\n",
       "      <td>9.076773</td>\n",
       "    </tr>\n",
       "    <tr>\n",
       "      <th>Mainstream</th>\n",
       "      <td>25804</td>\n",
       "      <td>2788</td>\n",
       "      <td>9.255380</td>\n",
       "    </tr>\n",
       "    <tr>\n",
       "      <th>Premium</th>\n",
       "      <td>20239</td>\n",
       "      <td>2231</td>\n",
       "      <td>9.071717</td>\n",
       "    </tr>\n",
       "    <tr>\n",
       "      <th rowspan=\"3\" valign=\"top\">OLDER SINGLES/COUPLES</th>\n",
       "      <th>Budget</th>\n",
       "      <td>32883</td>\n",
       "      <td>4849</td>\n",
       "      <td>6.781398</td>\n",
       "    </tr>\n",
       "    <tr>\n",
       "      <th>Mainstream</th>\n",
       "      <td>32607</td>\n",
       "      <td>4858</td>\n",
       "      <td>6.712021</td>\n",
       "    </tr>\n",
       "    <tr>\n",
       "      <th>Premium</th>\n",
       "      <td>31695</td>\n",
       "      <td>4682</td>\n",
       "      <td>6.769543</td>\n",
       "    </tr>\n",
       "    <tr>\n",
       "      <th rowspan=\"3\" valign=\"top\">RETIREES</th>\n",
       "      <th>Budget</th>\n",
       "      <td>26932</td>\n",
       "      <td>4385</td>\n",
       "      <td>6.141847</td>\n",
       "    </tr>\n",
       "    <tr>\n",
       "      <th>Mainstream</th>\n",
       "      <td>37677</td>\n",
       "      <td>6358</td>\n",
       "      <td>5.925920</td>\n",
       "    </tr>\n",
       "    <tr>\n",
       "      <th>Premium</th>\n",
       "      <td>23266</td>\n",
       "      <td>3812</td>\n",
       "      <td>6.103358</td>\n",
       "    </tr>\n",
       "    <tr>\n",
       "      <th rowspan=\"3\" valign=\"top\">YOUNG FAMILIES</th>\n",
       "      <th>Budget</th>\n",
       "      <td>34482</td>\n",
       "      <td>3953</td>\n",
       "      <td>8.722995</td>\n",
       "    </tr>\n",
       "    <tr>\n",
       "      <th>Mainstream</th>\n",
       "      <td>23194</td>\n",
       "      <td>2685</td>\n",
       "      <td>8.638361</td>\n",
       "    </tr>\n",
       "    <tr>\n",
       "      <th>Premium</th>\n",
       "      <td>20901</td>\n",
       "      <td>2398</td>\n",
       "      <td>8.716013</td>\n",
       "    </tr>\n",
       "    <tr>\n",
       "      <th rowspan=\"3\" valign=\"top\">YOUNG SINGLES/COUPLES</th>\n",
       "      <th>Budget</th>\n",
       "      <td>15500</td>\n",
       "      <td>3647</td>\n",
       "      <td>4.250069</td>\n",
       "    </tr>\n",
       "    <tr>\n",
       "      <th>Mainstream</th>\n",
       "      <td>36225</td>\n",
       "      <td>7917</td>\n",
       "      <td>4.575597</td>\n",
       "    </tr>\n",
       "    <tr>\n",
       "      <th>Premium</th>\n",
       "      <td>10575</td>\n",
       "      <td>2480</td>\n",
       "      <td>4.264113</td>\n",
       "    </tr>\n",
       "  </tbody>\n",
       "</table>\n",
       "</div>"
      ],
      "text/plain": [
       "                                         PROD_QTY  Customer_count  avg_sal_Qty\n",
       "LIFESTAGE              PREMIUM_CUSTOMER                                       \n",
       "MIDAGE SINGLES/COUPLES Budget                8883            1474     6.026459\n",
       "                       Mainstream           21213            3298     6.432080\n",
       "                       Premium              14400            2369     6.078514\n",
       "NEW FAMILIES           Budget                5241            1087     4.821527\n",
       "                       Mainstream            4060             830     4.891566\n",
       "                       Premium               2769             575     4.815652\n",
       "OLDER FAMILIES         Budget               41853            4611     9.076773\n",
       "                       Mainstream           25804            2788     9.255380\n",
       "                       Premium              20239            2231     9.071717\n",
       "OLDER SINGLES/COUPLES  Budget               32883            4849     6.781398\n",
       "                       Mainstream           32607            4858     6.712021\n",
       "                       Premium              31695            4682     6.769543\n",
       "RETIREES               Budget               26932            4385     6.141847\n",
       "                       Mainstream           37677            6358     5.925920\n",
       "                       Premium              23266            3812     6.103358\n",
       "YOUNG FAMILIES         Budget               34482            3953     8.722995\n",
       "                       Mainstream           23194            2685     8.638361\n",
       "                       Premium              20901            2398     8.716013\n",
       "YOUNG SINGLES/COUPLES  Budget               15500            3647     4.250069\n",
       "                       Mainstream           36225            7917     4.575597\n",
       "                       Premium              10575            2480     4.264113"
      ]
     },
     "execution_count": 280,
     "metadata": {},
     "output_type": "execute_result"
    }
   ],
   "source": [
    "merge"
   ]
  },
  {
   "cell_type": "code",
   "execution_count": 359,
   "metadata": {},
   "outputs": [
    {
     "data": {
      "text/plain": [
       "Text(0, 0.5, 'Average Sales Quantity')"
      ]
     },
     "execution_count": 359,
     "metadata": {},
     "output_type": "execute_result"
    },
    {
     "data": {
      "image/png": "[encoded data removed]",
      "text/plain": [
       "<Figure size 1440x720 with 1 Axes>"
      ]
     },
     "metadata": {
      "needs_background": "light"
     },
     "output_type": "display_data"
    }
   ],
   "source": [
    "plt.figure(figsize=(20,10))\n",
    "sns.barplot(y=merge.reset_index()['avg_sal_Qty'],x=merge.reset_index()['LIFESTAGE'],hue=merge.reset_index()['PREMIUM_CUSTOMER'])\n",
    "plt.xlabel('Lifestage',fontsize=20)\n",
    "plt.ylabel('Average Sales Quantity',fontsize = 20)"
   ]
  },
  {
   "cell_type": "markdown",
   "metadata": {},
   "source": [
    "# AVERAGE SALES PRICE"
   ]
  },
  {
   "cell_type": "code",
   "execution_count": 288,
   "metadata": {},
   "outputs": [],
   "source": [
    "merge1 = pd.merge(merge,cus,on=['LIFESTAGE','PREMIUM_CUSTOMER'])"
   ]
  },
  {
   "cell_type": "code",
   "execution_count": 289,
   "metadata": {
    "scrolled": true
   },
   "outputs": [
    {
     "data": {
      "text/html": [
       "<div>\n",
       "<style scoped>\n",
       "    .dataframe tbody tr th:only-of-type {\n",
       "        vertical-align: middle;\n",
       "    }\n",
       "\n",
       "    .dataframe tbody tr th {\n",
       "        vertical-align: top;\n",
       "    }\n",
       "\n",
       "    .dataframe thead th {\n",
       "        text-align: right;\n",
       "    }\n",
       "</style>\n",
       "<table border=\"1\" class=\"dataframe\">\n",
       "  <thead>\n",
       "    <tr style=\"text-align: right;\">\n",
       "      <th></th>\n",
       "      <th></th>\n",
       "      <th>PROD_QTY</th>\n",
       "      <th>Customer_count</th>\n",
       "      <th>avg_sal_Qty</th>\n",
       "      <th>sum</th>\n",
       "    </tr>\n",
       "    <tr>\n",
       "      <th>LIFESTAGE</th>\n",
       "      <th>PREMIUM_CUSTOMER</th>\n",
       "      <th></th>\n",
       "      <th></th>\n",
       "      <th></th>\n",
       "      <th></th>\n",
       "    </tr>\n",
       "  </thead>\n",
       "  <tbody>\n",
       "    <tr>\n",
       "      <th rowspan=\"3\" valign=\"top\">MIDAGE SINGLES/COUPLES</th>\n",
       "      <th>Budget</th>\n",
       "      <td>8883</td>\n",
       "      <td>1474</td>\n",
       "      <td>6.026459</td>\n",
       "      <td>33345.70</td>\n",
       "    </tr>\n",
       "    <tr>\n",
       "      <th>Mainstream</th>\n",
       "      <td>21213</td>\n",
       "      <td>3298</td>\n",
       "      <td>6.432080</td>\n",
       "      <td>84734.25</td>\n",
       "    </tr>\n",
       "    <tr>\n",
       "      <th>Premium</th>\n",
       "      <td>14400</td>\n",
       "      <td>2369</td>\n",
       "      <td>6.078514</td>\n",
       "      <td>54443.85</td>\n",
       "    </tr>\n",
       "    <tr>\n",
       "      <th rowspan=\"3\" valign=\"top\">NEW FAMILIES</th>\n",
       "      <th>Budget</th>\n",
       "      <td>5241</td>\n",
       "      <td>1087</td>\n",
       "      <td>4.821527</td>\n",
       "      <td>20607.45</td>\n",
       "    </tr>\n",
       "    <tr>\n",
       "      <th>Mainstream</th>\n",
       "      <td>4060</td>\n",
       "      <td>830</td>\n",
       "      <td>4.891566</td>\n",
       "      <td>15979.70</td>\n",
       "    </tr>\n",
       "    <tr>\n",
       "      <th>Premium</th>\n",
       "      <td>2769</td>\n",
       "      <td>575</td>\n",
       "      <td>4.815652</td>\n",
       "      <td>10760.80</td>\n",
       "    </tr>\n",
       "    <tr>\n",
       "      <th rowspan=\"3\" valign=\"top\">OLDER FAMILIES</th>\n",
       "      <th>Budget</th>\n",
       "      <td>41853</td>\n",
       "      <td>4611</td>\n",
       "      <td>9.076773</td>\n",
       "      <td>156863.75</td>\n",
       "    </tr>\n",
       "    <tr>\n",
       "      <th>Mainstream</th>\n",
       "      <td>25804</td>\n",
       "      <td>2788</td>\n",
       "      <td>9.255380</td>\n",
       "      <td>96413.55</td>\n",
       "    </tr>\n",
       "    <tr>\n",
       "      <th>Premium</th>\n",
       "      <td>20239</td>\n",
       "      <td>2231</td>\n",
       "      <td>9.071717</td>\n",
       "      <td>75242.60</td>\n",
       "    </tr>\n",
       "    <tr>\n",
       "      <th rowspan=\"3\" valign=\"top\">OLDER SINGLES/COUPLES</th>\n",
       "      <th>Budget</th>\n",
       "      <td>32883</td>\n",
       "      <td>4849</td>\n",
       "      <td>6.781398</td>\n",
       "      <td>127833.60</td>\n",
       "    </tr>\n",
       "    <tr>\n",
       "      <th>Mainstream</th>\n",
       "      <td>32607</td>\n",
       "      <td>4858</td>\n",
       "      <td>6.712021</td>\n",
       "      <td>124648.50</td>\n",
       "    </tr>\n",
       "    <tr>\n",
       "      <th>Premium</th>\n",
       "      <td>31695</td>\n",
       "      <td>4682</td>\n",
       "      <td>6.769543</td>\n",
       "      <td>123537.55</td>\n",
       "    </tr>\n",
       "    <tr>\n",
       "      <th rowspan=\"3\" valign=\"top\">RETIREES</th>\n",
       "      <th>Budget</th>\n",
       "      <td>26932</td>\n",
       "      <td>4385</td>\n",
       "      <td>6.141847</td>\n",
       "      <td>105916.30</td>\n",
       "    </tr>\n",
       "    <tr>\n",
       "      <th>Mainstream</th>\n",
       "      <td>37677</td>\n",
       "      <td>6358</td>\n",
       "      <td>5.925920</td>\n",
       "      <td>145168.95</td>\n",
       "    </tr>\n",
       "    <tr>\n",
       "      <th>Premium</th>\n",
       "      <td>23266</td>\n",
       "      <td>3812</td>\n",
       "      <td>6.103358</td>\n",
       "      <td>91296.65</td>\n",
       "    </tr>\n",
       "    <tr>\n",
       "      <th rowspan=\"3\" valign=\"top\">YOUNG FAMILIES</th>\n",
       "      <th>Budget</th>\n",
       "      <td>34482</td>\n",
       "      <td>3953</td>\n",
       "      <td>8.722995</td>\n",
       "      <td>129717.95</td>\n",
       "    </tr>\n",
       "    <tr>\n",
       "      <th>Mainstream</th>\n",
       "      <td>23194</td>\n",
       "      <td>2685</td>\n",
       "      <td>8.638361</td>\n",
       "      <td>86338.25</td>\n",
       "    </tr>\n",
       "    <tr>\n",
       "      <th>Premium</th>\n",
       "      <td>20901</td>\n",
       "      <td>2398</td>\n",
       "      <td>8.716013</td>\n",
       "      <td>78571.70</td>\n",
       "    </tr>\n",
       "    <tr>\n",
       "      <th rowspan=\"3\" valign=\"top\">YOUNG SINGLES/COUPLES</th>\n",
       "      <th>Budget</th>\n",
       "      <td>15500</td>\n",
       "      <td>3647</td>\n",
       "      <td>4.250069</td>\n",
       "      <td>57122.10</td>\n",
       "    </tr>\n",
       "    <tr>\n",
       "      <th>Mainstream</th>\n",
       "      <td>36225</td>\n",
       "      <td>7917</td>\n",
       "      <td>4.575597</td>\n",
       "      <td>147582.20</td>\n",
       "    </tr>\n",
       "    <tr>\n",
       "      <th>Premium</th>\n",
       "      <td>10575</td>\n",
       "      <td>2480</td>\n",
       "      <td>4.264113</td>\n",
       "      <td>39052.30</td>\n",
       "    </tr>\n",
       "  </tbody>\n",
       "</table>\n",
       "</div>"
      ],
      "text/plain": [
       "                                         PROD_QTY  Customer_count  \\\n",
       "LIFESTAGE              PREMIUM_CUSTOMER                             \n",
       "MIDAGE SINGLES/COUPLES Budget                8883            1474   \n",
       "                       Mainstream           21213            3298   \n",
       "                       Premium              14400            2369   \n",
       "NEW FAMILIES           Budget                5241            1087   \n",
       "                       Mainstream            4060             830   \n",
       "                       Premium               2769             575   \n",
       "OLDER FAMILIES         Budget               41853            4611   \n",
       "                       Mainstream           25804            2788   \n",
       "                       Premium              20239            2231   \n",
       "OLDER SINGLES/COUPLES  Budget               32883            4849   \n",
       "                       Mainstream           32607            4858   \n",
       "                       Premium              31695            4682   \n",
       "RETIREES               Budget               26932            4385   \n",
       "                       Mainstream           37677            6358   \n",
       "                       Premium              23266            3812   \n",
       "YOUNG FAMILIES         Budget               34482            3953   \n",
       "                       Mainstream           23194            2685   \n",
       "                       Premium              20901            2398   \n",
       "YOUNG SINGLES/COUPLES  Budget               15500            3647   \n",
       "                       Mainstream           36225            7917   \n",
       "                       Premium              10575            2480   \n",
       "\n",
       "                                         avg_sal_Qty        sum  \n",
       "LIFESTAGE              PREMIUM_CUSTOMER                          \n",
       "MIDAGE SINGLES/COUPLES Budget               6.026459   33345.70  \n",
       "                       Mainstream           6.432080   84734.25  \n",
       "                       Premium              6.078514   54443.85  \n",
       "NEW FAMILIES           Budget               4.821527   20607.45  \n",
       "                       Mainstream           4.891566   15979.70  \n",
       "                       Premium              4.815652   10760.80  \n",
       "OLDER FAMILIES         Budget               9.076773  156863.75  \n",
       "                       Mainstream           9.255380   96413.55  \n",
       "                       Premium              9.071717   75242.60  \n",
       "OLDER SINGLES/COUPLES  Budget               6.781398  127833.60  \n",
       "                       Mainstream           6.712021  124648.50  \n",
       "                       Premium              6.769543  123537.55  \n",
       "RETIREES               Budget               6.141847  105916.30  \n",
       "                       Mainstream           5.925920  145168.95  \n",
       "                       Premium              6.103358   91296.65  \n",
       "YOUNG FAMILIES         Budget               8.722995  129717.95  \n",
       "                       Mainstream           8.638361   86338.25  \n",
       "                       Premium              8.716013   78571.70  \n",
       "YOUNG SINGLES/COUPLES  Budget               4.250069   57122.10  \n",
       "                       Mainstream           4.575597  147582.20  \n",
       "                       Premium              4.264113   39052.30  "
      ]
     },
     "execution_count": 289,
     "metadata": {},
     "output_type": "execute_result"
    }
   ],
   "source": [
    "merge1"
   ]
  },
  {
   "cell_type": "code",
   "execution_count": 291,
   "metadata": {},
   "outputs": [],
   "source": [
    "merge1 = merge1.rename(columns={'sum':'Total_Sales'})"
   ]
  },
  {
   "cell_type": "code",
   "execution_count": 292,
   "metadata": {},
   "outputs": [
    {
     "data": {
      "text/html": [
       "<div>\n",
       "<style scoped>\n",
       "    .dataframe tbody tr th:only-of-type {\n",
       "        vertical-align: middle;\n",
       "    }\n",
       "\n",
       "    .dataframe tbody tr th {\n",
       "        vertical-align: top;\n",
       "    }\n",
       "\n",
       "    .dataframe thead th {\n",
       "        text-align: right;\n",
       "    }\n",
       "</style>\n",
       "<table border=\"1\" class=\"dataframe\">\n",
       "  <thead>\n",
       "    <tr style=\"text-align: right;\">\n",
       "      <th></th>\n",
       "      <th></th>\n",
       "      <th>PROD_QTY</th>\n",
       "      <th>Customer_count</th>\n",
       "      <th>avg_sal_Qty</th>\n",
       "      <th>Total_Sales</th>\n",
       "    </tr>\n",
       "    <tr>\n",
       "      <th>LIFESTAGE</th>\n",
       "      <th>PREMIUM_CUSTOMER</th>\n",
       "      <th></th>\n",
       "      <th></th>\n",
       "      <th></th>\n",
       "      <th></th>\n",
       "    </tr>\n",
       "  </thead>\n",
       "  <tbody>\n",
       "    <tr>\n",
       "      <th rowspan=\"3\" valign=\"top\">MIDAGE SINGLES/COUPLES</th>\n",
       "      <th>Budget</th>\n",
       "      <td>8883</td>\n",
       "      <td>1474</td>\n",
       "      <td>6.026459</td>\n",
       "      <td>33345.70</td>\n",
       "    </tr>\n",
       "    <tr>\n",
       "      <th>Mainstream</th>\n",
       "      <td>21213</td>\n",
       "      <td>3298</td>\n",
       "      <td>6.432080</td>\n",
       "      <td>84734.25</td>\n",
       "    </tr>\n",
       "    <tr>\n",
       "      <th>Premium</th>\n",
       "      <td>14400</td>\n",
       "      <td>2369</td>\n",
       "      <td>6.078514</td>\n",
       "      <td>54443.85</td>\n",
       "    </tr>\n",
       "    <tr>\n",
       "      <th rowspan=\"3\" valign=\"top\">NEW FAMILIES</th>\n",
       "      <th>Budget</th>\n",
       "      <td>5241</td>\n",
       "      <td>1087</td>\n",
       "      <td>4.821527</td>\n",
       "      <td>20607.45</td>\n",
       "    </tr>\n",
       "    <tr>\n",
       "      <th>Mainstream</th>\n",
       "      <td>4060</td>\n",
       "      <td>830</td>\n",
       "      <td>4.891566</td>\n",
       "      <td>15979.70</td>\n",
       "    </tr>\n",
       "    <tr>\n",
       "      <th>Premium</th>\n",
       "      <td>2769</td>\n",
       "      <td>575</td>\n",
       "      <td>4.815652</td>\n",
       "      <td>10760.80</td>\n",
       "    </tr>\n",
       "    <tr>\n",
       "      <th rowspan=\"3\" valign=\"top\">OLDER FAMILIES</th>\n",
       "      <th>Budget</th>\n",
       "      <td>41853</td>\n",
       "      <td>4611</td>\n",
       "      <td>9.076773</td>\n",
       "      <td>156863.75</td>\n",
       "    </tr>\n",
       "    <tr>\n",
       "      <th>Mainstream</th>\n",
       "      <td>25804</td>\n",
       "      <td>2788</td>\n",
       "      <td>9.255380</td>\n",
       "      <td>96413.55</td>\n",
       "    </tr>\n",
       "    <tr>\n",
       "      <th>Premium</th>\n",
       "      <td>20239</td>\n",
       "      <td>2231</td>\n",
       "      <td>9.071717</td>\n",
       "      <td>75242.60</td>\n",
       "    </tr>\n",
       "    <tr>\n",
       "      <th rowspan=\"3\" valign=\"top\">OLDER SINGLES/COUPLES</th>\n",
       "      <th>Budget</th>\n",
       "      <td>32883</td>\n",
       "      <td>4849</td>\n",
       "      <td>6.781398</td>\n",
       "      <td>127833.60</td>\n",
       "    </tr>\n",
       "    <tr>\n",
       "      <th>Mainstream</th>\n",
       "      <td>32607</td>\n",
       "      <td>4858</td>\n",
       "      <td>6.712021</td>\n",
       "      <td>124648.50</td>\n",
       "    </tr>\n",
       "    <tr>\n",
       "      <th>Premium</th>\n",
       "      <td>31695</td>\n",
       "      <td>4682</td>\n",
       "      <td>6.769543</td>\n",
       "      <td>123537.55</td>\n",
       "    </tr>\n",
       "    <tr>\n",
       "      <th rowspan=\"3\" valign=\"top\">RETIREES</th>\n",
       "      <th>Budget</th>\n",
       "      <td>26932</td>\n",
       "      <td>4385</td>\n",
       "      <td>6.141847</td>\n",
       "      <td>105916.30</td>\n",
       "    </tr>\n",
       "    <tr>\n",
       "      <th>Mainstream</th>\n",
       "      <td>37677</td>\n",
       "      <td>6358</td>\n",
       "      <td>5.925920</td>\n",
       "      <td>145168.95</td>\n",
       "    </tr>\n",
       "    <tr>\n",
       "      <th>Premium</th>\n",
       "      <td>23266</td>\n",
       "      <td>3812</td>\n",
       "      <td>6.103358</td>\n",
       "      <td>91296.65</td>\n",
       "    </tr>\n",
       "    <tr>\n",
       "      <th rowspan=\"3\" valign=\"top\">YOUNG FAMILIES</th>\n",
       "      <th>Budget</th>\n",
       "      <td>34482</td>\n",
       "      <td>3953</td>\n",
       "      <td>8.722995</td>\n",
       "      <td>129717.95</td>\n",
       "    </tr>\n",
       "    <tr>\n",
       "      <th>Mainstream</th>\n",
       "      <td>23194</td>\n",
       "      <td>2685</td>\n",
       "      <td>8.638361</td>\n",
       "      <td>86338.25</td>\n",
       "    </tr>\n",
       "    <tr>\n",
       "      <th>Premium</th>\n",
       "      <td>20901</td>\n",
       "      <td>2398</td>\n",
       "      <td>8.716013</td>\n",
       "      <td>78571.70</td>\n",
       "    </tr>\n",
       "    <tr>\n",
       "      <th rowspan=\"3\" valign=\"top\">YOUNG SINGLES/COUPLES</th>\n",
       "      <th>Budget</th>\n",
       "      <td>15500</td>\n",
       "      <td>3647</td>\n",
       "      <td>4.250069</td>\n",
       "      <td>57122.10</td>\n",
       "    </tr>\n",
       "    <tr>\n",
       "      <th>Mainstream</th>\n",
       "      <td>36225</td>\n",
       "      <td>7917</td>\n",
       "      <td>4.575597</td>\n",
       "      <td>147582.20</td>\n",
       "    </tr>\n",
       "    <tr>\n",
       "      <th>Premium</th>\n",
       "      <td>10575</td>\n",
       "      <td>2480</td>\n",
       "      <td>4.264113</td>\n",
       "      <td>39052.30</td>\n",
       "    </tr>\n",
       "  </tbody>\n",
       "</table>\n",
       "</div>"
      ],
      "text/plain": [
       "                                         PROD_QTY  Customer_count  \\\n",
       "LIFESTAGE              PREMIUM_CUSTOMER                             \n",
       "MIDAGE SINGLES/COUPLES Budget                8883            1474   \n",
       "                       Mainstream           21213            3298   \n",
       "                       Premium              14400            2369   \n",
       "NEW FAMILIES           Budget                5241            1087   \n",
       "                       Mainstream            4060             830   \n",
       "                       Premium               2769             575   \n",
       "OLDER FAMILIES         Budget               41853            4611   \n",
       "                       Mainstream           25804            2788   \n",
       "                       Premium              20239            2231   \n",
       "OLDER SINGLES/COUPLES  Budget               32883            4849   \n",
       "                       Mainstream           32607            4858   \n",
       "                       Premium              31695            4682   \n",
       "RETIREES               Budget               26932            4385   \n",
       "                       Mainstream           37677            6358   \n",
       "                       Premium              23266            3812   \n",
       "YOUNG FAMILIES         Budget               34482            3953   \n",
       "                       Mainstream           23194            2685   \n",
       "                       Premium              20901            2398   \n",
       "YOUNG SINGLES/COUPLES  Budget               15500            3647   \n",
       "                       Mainstream           36225            7917   \n",
       "                       Premium              10575            2480   \n",
       "\n",
       "                                         avg_sal_Qty  Total_Sales  \n",
       "LIFESTAGE              PREMIUM_CUSTOMER                            \n",
       "MIDAGE SINGLES/COUPLES Budget               6.026459     33345.70  \n",
       "                       Mainstream           6.432080     84734.25  \n",
       "                       Premium              6.078514     54443.85  \n",
       "NEW FAMILIES           Budget               4.821527     20607.45  \n",
       "                       Mainstream           4.891566     15979.70  \n",
       "                       Premium              4.815652     10760.80  \n",
       "OLDER FAMILIES         Budget               9.076773    156863.75  \n",
       "                       Mainstream           9.255380     96413.55  \n",
       "                       Premium              9.071717     75242.60  \n",
       "OLDER SINGLES/COUPLES  Budget               6.781398    127833.60  \n",
       "                       Mainstream           6.712021    124648.50  \n",
       "                       Premium              6.769543    123537.55  \n",
       "RETIREES               Budget               6.141847    105916.30  \n",
       "                       Mainstream           5.925920    145168.95  \n",
       "                       Premium              6.103358     91296.65  \n",
       "YOUNG FAMILIES         Budget               8.722995    129717.95  \n",
       "                       Mainstream           8.638361     86338.25  \n",
       "                       Premium              8.716013     78571.70  \n",
       "YOUNG SINGLES/COUPLES  Budget               4.250069     57122.10  \n",
       "                       Mainstream           4.575597    147582.20  \n",
       "                       Premium              4.264113     39052.30  "
      ]
     },
     "execution_count": 292,
     "metadata": {},
     "output_type": "execute_result"
    }
   ],
   "source": [
    "merge1"
   ]
  },
  {
   "cell_type": "code",
   "execution_count": 293,
   "metadata": {},
   "outputs": [],
   "source": [
    "merge1['avg_sale_price'] = merge1['Total_Sales']/merge1['PROD_QTY'] "
   ]
  },
  {
   "cell_type": "code",
   "execution_count": 294,
   "metadata": {},
   "outputs": [
    {
     "data": {
      "text/html": [
       "<div>\n",
       "<style scoped>\n",
       "    .dataframe tbody tr th:only-of-type {\n",
       "        vertical-align: middle;\n",
       "    }\n",
       "\n",
       "    .dataframe tbody tr th {\n",
       "        vertical-align: top;\n",
       "    }\n",
       "\n",
       "    .dataframe thead th {\n",
       "        text-align: right;\n",
       "    }\n",
       "</style>\n",
       "<table border=\"1\" class=\"dataframe\">\n",
       "  <thead>\n",
       "    <tr style=\"text-align: right;\">\n",
       "      <th></th>\n",
       "      <th></th>\n",
       "      <th>PROD_QTY</th>\n",
       "      <th>Customer_count</th>\n",
       "      <th>avg_sal_Qty</th>\n",
       "      <th>Total_Sales</th>\n",
       "      <th>avg_sale_price</th>\n",
       "    </tr>\n",
       "    <tr>\n",
       "      <th>LIFESTAGE</th>\n",
       "      <th>PREMIUM_CUSTOMER</th>\n",
       "      <th></th>\n",
       "      <th></th>\n",
       "      <th></th>\n",
       "      <th></th>\n",
       "      <th></th>\n",
       "    </tr>\n",
       "  </thead>\n",
       "  <tbody>\n",
       "    <tr>\n",
       "      <th rowspan=\"3\" valign=\"top\">MIDAGE SINGLES/COUPLES</th>\n",
       "      <th>Budget</th>\n",
       "      <td>8883</td>\n",
       "      <td>1474</td>\n",
       "      <td>6.026459</td>\n",
       "      <td>33345.70</td>\n",
       "      <td>3.753878</td>\n",
       "    </tr>\n",
       "    <tr>\n",
       "      <th>Mainstream</th>\n",
       "      <td>21213</td>\n",
       "      <td>3298</td>\n",
       "      <td>6.432080</td>\n",
       "      <td>84734.25</td>\n",
       "      <td>3.994449</td>\n",
       "    </tr>\n",
       "    <tr>\n",
       "      <th>Premium</th>\n",
       "      <td>14400</td>\n",
       "      <td>2369</td>\n",
       "      <td>6.078514</td>\n",
       "      <td>54443.85</td>\n",
       "      <td>3.780823</td>\n",
       "    </tr>\n",
       "    <tr>\n",
       "      <th rowspan=\"3\" valign=\"top\">NEW FAMILIES</th>\n",
       "      <th>Budget</th>\n",
       "      <td>5241</td>\n",
       "      <td>1087</td>\n",
       "      <td>4.821527</td>\n",
       "      <td>20607.45</td>\n",
       "      <td>3.931969</td>\n",
       "    </tr>\n",
       "    <tr>\n",
       "      <th>Mainstream</th>\n",
       "      <td>4060</td>\n",
       "      <td>830</td>\n",
       "      <td>4.891566</td>\n",
       "      <td>15979.70</td>\n",
       "      <td>3.935887</td>\n",
       "    </tr>\n",
       "    <tr>\n",
       "      <th>Premium</th>\n",
       "      <td>2769</td>\n",
       "      <td>575</td>\n",
       "      <td>4.815652</td>\n",
       "      <td>10760.80</td>\n",
       "      <td>3.886168</td>\n",
       "    </tr>\n",
       "    <tr>\n",
       "      <th rowspan=\"3\" valign=\"top\">OLDER FAMILIES</th>\n",
       "      <th>Budget</th>\n",
       "      <td>41853</td>\n",
       "      <td>4611</td>\n",
       "      <td>9.076773</td>\n",
       "      <td>156863.75</td>\n",
       "      <td>3.747969</td>\n",
       "    </tr>\n",
       "    <tr>\n",
       "      <th>Mainstream</th>\n",
       "      <td>25804</td>\n",
       "      <td>2788</td>\n",
       "      <td>9.255380</td>\n",
       "      <td>96413.55</td>\n",
       "      <td>3.736380</td>\n",
       "    </tr>\n",
       "    <tr>\n",
       "      <th>Premium</th>\n",
       "      <td>20239</td>\n",
       "      <td>2231</td>\n",
       "      <td>9.071717</td>\n",
       "      <td>75242.60</td>\n",
       "      <td>3.717703</td>\n",
       "    </tr>\n",
       "    <tr>\n",
       "      <th rowspan=\"3\" valign=\"top\">OLDER SINGLES/COUPLES</th>\n",
       "      <th>Budget</th>\n",
       "      <td>32883</td>\n",
       "      <td>4849</td>\n",
       "      <td>6.781398</td>\n",
       "      <td>127833.60</td>\n",
       "      <td>3.887529</td>\n",
       "    </tr>\n",
       "    <tr>\n",
       "      <th>Mainstream</th>\n",
       "      <td>32607</td>\n",
       "      <td>4858</td>\n",
       "      <td>6.712021</td>\n",
       "      <td>124648.50</td>\n",
       "      <td>3.822753</td>\n",
       "    </tr>\n",
       "    <tr>\n",
       "      <th>Premium</th>\n",
       "      <td>31695</td>\n",
       "      <td>4682</td>\n",
       "      <td>6.769543</td>\n",
       "      <td>123537.55</td>\n",
       "      <td>3.897698</td>\n",
       "    </tr>\n",
       "    <tr>\n",
       "      <th rowspan=\"3\" valign=\"top\">RETIREES</th>\n",
       "      <th>Budget</th>\n",
       "      <td>26932</td>\n",
       "      <td>4385</td>\n",
       "      <td>6.141847</td>\n",
       "      <td>105916.30</td>\n",
       "      <td>3.932731</td>\n",
       "    </tr>\n",
       "    <tr>\n",
       "      <th>Mainstream</th>\n",
       "      <td>37677</td>\n",
       "      <td>6358</td>\n",
       "      <td>5.925920</td>\n",
       "      <td>145168.95</td>\n",
       "      <td>3.852986</td>\n",
       "    </tr>\n",
       "    <tr>\n",
       "      <th>Premium</th>\n",
       "      <td>23266</td>\n",
       "      <td>3812</td>\n",
       "      <td>6.103358</td>\n",
       "      <td>91296.65</td>\n",
       "      <td>3.924037</td>\n",
       "    </tr>\n",
       "    <tr>\n",
       "      <th rowspan=\"3\" valign=\"top\">YOUNG FAMILIES</th>\n",
       "      <th>Budget</th>\n",
       "      <td>34482</td>\n",
       "      <td>3953</td>\n",
       "      <td>8.722995</td>\n",
       "      <td>129717.95</td>\n",
       "      <td>3.761903</td>\n",
       "    </tr>\n",
       "    <tr>\n",
       "      <th>Mainstream</th>\n",
       "      <td>23194</td>\n",
       "      <td>2685</td>\n",
       "      <td>8.638361</td>\n",
       "      <td>86338.25</td>\n",
       "      <td>3.722439</td>\n",
       "    </tr>\n",
       "    <tr>\n",
       "      <th>Premium</th>\n",
       "      <td>20901</td>\n",
       "      <td>2398</td>\n",
       "      <td>8.716013</td>\n",
       "      <td>78571.70</td>\n",
       "      <td>3.759232</td>\n",
       "    </tr>\n",
       "    <tr>\n",
       "      <th rowspan=\"3\" valign=\"top\">YOUNG SINGLES/COUPLES</th>\n",
       "      <th>Budget</th>\n",
       "      <td>15500</td>\n",
       "      <td>3647</td>\n",
       "      <td>4.250069</td>\n",
       "      <td>57122.10</td>\n",
       "      <td>3.685297</td>\n",
       "    </tr>\n",
       "    <tr>\n",
       "      <th>Mainstream</th>\n",
       "      <td>36225</td>\n",
       "      <td>7917</td>\n",
       "      <td>4.575597</td>\n",
       "      <td>147582.20</td>\n",
       "      <td>4.074043</td>\n",
       "    </tr>\n",
       "    <tr>\n",
       "      <th>Premium</th>\n",
       "      <td>10575</td>\n",
       "      <td>2480</td>\n",
       "      <td>4.264113</td>\n",
       "      <td>39052.30</td>\n",
       "      <td>3.692889</td>\n",
       "    </tr>\n",
       "  </tbody>\n",
       "</table>\n",
       "</div>"
      ],
      "text/plain": [
       "                                         PROD_QTY  Customer_count  \\\n",
       "LIFESTAGE              PREMIUM_CUSTOMER                             \n",
       "MIDAGE SINGLES/COUPLES Budget                8883            1474   \n",
       "                       Mainstream           21213            3298   \n",
       "                       Premium              14400            2369   \n",
       "NEW FAMILIES           Budget                5241            1087   \n",
       "                       Mainstream            4060             830   \n",
       "                       Premium               2769             575   \n",
       "OLDER FAMILIES         Budget               41853            4611   \n",
       "                       Mainstream           25804            2788   \n",
       "                       Premium              20239            2231   \n",
       "OLDER SINGLES/COUPLES  Budget               32883            4849   \n",
       "                       Mainstream           32607            4858   \n",
       "                       Premium              31695            4682   \n",
       "RETIREES               Budget               26932            4385   \n",
       "                       Mainstream           37677            6358   \n",
       "                       Premium              23266            3812   \n",
       "YOUNG FAMILIES         Budget               34482            3953   \n",
       "                       Mainstream           23194            2685   \n",
       "                       Premium              20901            2398   \n",
       "YOUNG SINGLES/COUPLES  Budget               15500            3647   \n",
       "                       Mainstream           36225            7917   \n",
       "                       Premium              10575            2480   \n",
       "\n",
       "                                         avg_sal_Qty  Total_Sales  \\\n",
       "LIFESTAGE              PREMIUM_CUSTOMER                             \n",
       "MIDAGE SINGLES/COUPLES Budget               6.026459     33345.70   \n",
       "                       Mainstream           6.432080     84734.25   \n",
       "                       Premium              6.078514     54443.85   \n",
       "NEW FAMILIES           Budget               4.821527     20607.45   \n",
       "                       Mainstream           4.891566     15979.70   \n",
       "                       Premium              4.815652     10760.80   \n",
       "OLDER FAMILIES         Budget               9.076773    156863.75   \n",
       "                       Mainstream           9.255380     96413.55   \n",
       "                       Premium              9.071717     75242.60   \n",
       "OLDER SINGLES/COUPLES  Budget               6.781398    127833.60   \n",
       "                       Mainstream           6.712021    124648.50   \n",
       "                       Premium              6.769543    123537.55   \n",
       "RETIREES               Budget               6.141847    105916.30   \n",
       "                       Mainstream           5.925920    145168.95   \n",
       "                       Premium              6.103358     91296.65   \n",
       "YOUNG FAMILIES         Budget               8.722995    129717.95   \n",
       "                       Mainstream           8.638361     86338.25   \n",
       "                       Premium              8.716013     78571.70   \n",
       "YOUNG SINGLES/COUPLES  Budget               4.250069     57122.10   \n",
       "                       Mainstream           4.575597    147582.20   \n",
       "                       Premium              4.264113     39052.30   \n",
       "\n",
       "                                         avg_sale_price  \n",
       "LIFESTAGE              PREMIUM_CUSTOMER                  \n",
       "MIDAGE SINGLES/COUPLES Budget                  3.753878  \n",
       "                       Mainstream              3.994449  \n",
       "                       Premium                 3.780823  \n",
       "NEW FAMILIES           Budget                  3.931969  \n",
       "                       Mainstream              3.935887  \n",
       "                       Premium                 3.886168  \n",
       "OLDER FAMILIES         Budget                  3.747969  \n",
       "                       Mainstream              3.736380  \n",
       "                       Premium                 3.717703  \n",
       "OLDER SINGLES/COUPLES  Budget                  3.887529  \n",
       "                       Mainstream              3.822753  \n",
       "                       Premium                 3.897698  \n",
       "RETIREES               Budget                  3.932731  \n",
       "                       Mainstream              3.852986  \n",
       "                       Premium                 3.924037  \n",
       "YOUNG FAMILIES         Budget                  3.761903  \n",
       "                       Mainstream              3.722439  \n",
       "                       Premium                 3.759232  \n",
       "YOUNG SINGLES/COUPLES  Budget                  3.685297  \n",
       "                       Mainstream              4.074043  \n",
       "                       Premium                 3.692889  "
      ]
     },
     "execution_count": 294,
     "metadata": {},
     "output_type": "execute_result"
    }
   ],
   "source": [
    "merge1"
   ]
  },
  {
   "cell_type": "code",
   "execution_count": 345,
   "metadata": {},
   "outputs": [
    {
     "data": {
      "text/plain": [
       "<matplotlib.legend.Legend at 0x1ec2c172bb0>"
      ]
     },
     "execution_count": 345,
     "metadata": {},
     "output_type": "execute_result"
    },
    {
     "data": {
      "image/png": "[encoded data removed]",
      "text/plain": [
       "<Figure size 1440x504 with 1 Axes>"
      ]
     },
     "metadata": {
      "needs_background": "light"
     },
     "output_type": "display_data"
    }
   ],
   "source": [
    "plt.figure(figsize=(20,7))\n",
    "sns.barplot(x = merge1.reset_index()['LIFESTAGE'],y=merge1.reset_index()['avg_sale_price'],hue=merge1.reset_index()['PREMIUM_CUSTOMER'],\n",
    "           palette=sns.color_palette('bright',3))\n",
    "plt.xlabel('LIFESTAGE')\n",
    "plt.ylabel('Average Sale Price')\n",
    "plt.legend(fontsize=15, bbox_to_anchor=(1.02,0.98))"
   ]
  },
  {
   "cell_type": "code",
   "execution_count": null,
   "metadata": {},
   "outputs": [],
   "source": []
  }
 ],
 "metadata": {
  "kernelspec": {
   "display_name": "Python 3",
   "language": "python",
   "name": "python3"
  },
  "language_info": {
   "codemirror_mode": {
    "name": "ipython",
    "version": 3
   },
   "file_extension": ".py",
   "mimetype": "text/x-python",
   "name": "python",
   "nbconvert_exporter": "python",
   "pygments_lexer": "ipython3",
   "version": "3.8.5"
  }
 },
 "nbformat": 4,
 "nbformat_minor": 4
}
